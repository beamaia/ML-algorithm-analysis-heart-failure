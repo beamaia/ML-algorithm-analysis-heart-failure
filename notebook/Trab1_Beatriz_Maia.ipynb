{
 "cells": [
  {
   "cell_type": "markdown",
   "id": "402c97eb",
   "metadata": {},
   "source": [
    "# Analysis of different ML algorithms applied to heart failure prediction problem"
   ]
  },
  {
   "cell_type": "markdown",
   "id": "17fe0985",
   "metadata": {},
   "source": [
    "**Table of Content**\n",
    "1. Modules configuration\n",
    "2. Data\n",
    "    - 2.1. Attribute Information\n",
    "    - 2.2. Importing data\n",
    "    - 2.3. Analysing data\n",
    "3. Part 1: ZR and NBG\n"
   ]
  },
  {
   "cell_type": "markdown",
   "id": "8ca2d1c3",
   "metadata": {},
   "source": [
    "***"
   ]
  },
  {
   "cell_type": "markdown",
   "id": "d0fc7d7f",
   "metadata": {},
   "source": [
    "## 1. Modules configuration"
   ]
  },
  {
   "cell_type": "code",
   "execution_count": 62,
   "id": "b7700caf",
   "metadata": {},
   "outputs": [],
   "source": [
    "# DataSci basic modules\n",
    "import numpy as np\n",
    "import pandas as pd\n",
    "import seaborn as sns\n",
    "import matplotlib.pyplot as plt\n",
    "\n",
    "# Preprosseing\n",
    "from sklearn.impute import SimpleImputer\n",
    "from sklearn.model_selection import train_test_split\n",
    "from sklearn.preprocessing import StandardScaler\n",
    "\n",
    "# ML algorithms\n",
    "from sklearn.dummy import DummyClassifier\n",
    "from sklearn.naive_bayes import GaussianNB\n",
    "from sklearn.neighbors import KNeighborsClassifier\n",
    "from sklearn.tree import DecisionTreeClassifier\n",
    "from sklearn.cluster import KMeans\n",
    "\n",
    "# Train-test related modules\n",
    "from sklearn.model_selection import cross_val_score, cross_validate, GridSearchCV, RepeatedStratifiedKFold\n",
    "from sklearn.pipeline import Pipeline\n",
    "\n",
    "# Metrics\n",
    "from sklearn.metrics import confusion_matrix, plot_confusion_matrix, accuracy_score,\\\n",
    "                balanced_accuracy_score, precision_score, recall_score, f1_score\n",
    "import scipy.stats as stats\n",
    "\n",
    "# Others\n",
    "import itertools"
   ]
  },
  {
   "cell_type": "markdown",
   "id": "1e1fe8e7",
   "metadata": {},
   "source": [
    "***"
   ]
  },
  {
   "cell_type": "markdown",
   "id": "f1d9164a",
   "metadata": {},
   "source": [
    "## 2. Data"
   ]
  },
  {
   "cell_type": "markdown",
   "id": "325e9b5f",
   "metadata": {},
   "source": [
    "The data used in this project is part of the [Heart Failure Prediction Dataset](https://www.kaggle.com/datasets/fedesoriano/heart-failure-prediction?select=heart.csv), composed of 5 different datasets from:\n",
    "- Cleveland: 303 observations\n",
    "- Hungarian: 294 observations\n",
    "- Switzerland: 123 observations\n",
    "- Long Beach VA: 200 observations\n",
    "- Stalog (Heart) Data Set: 270 observations\n",
    "\n",
    "The final dataset, after the removal of duplicates, has 918 instances, 11 different features and 2 classes. \n",
    "\n"
   ]
  },
  {
   "cell_type": "markdown",
   "id": "ffdb51a1",
   "metadata": {},
   "source": [
    "### 2.1. Attribute Information"
   ]
  },
  {
   "cell_type": "markdown",
   "id": "f9349b4f",
   "metadata": {},
   "source": [
    "| Atribute | Description | Value type |\n",
    "|---|---|---|\n",
    "|Age | Age of the patient in years | Continuous |\n",
    "| Sex | Sex of the patient with M: Male, F: Female. | Binary categorical |\n",
    "| ChestPainType | Chest pain type with TA: Typical Angina, ATA: Atypical Angina, NAP: Non-Anginal Pain, ASY: Asymptomatic. | Categorical  |\n",
    "| RestingBP | Resting blood pressure measured in mm Hg | Continuous |\n",
    "| Cholesterol | Serum cholesterol in mm/dl | Continuous |\n",
    "| FastingBS | Fasting blood sugar with 1: if FastingBS > 120 mg/dl, 0: otherwise | Binary categorical |\n",
    "| RestingECG | Resting electrocardiogram results with values Normal: Normal, ST: having ST-T wave abnormality (T wave inversions and/or ST elevation or depression of > 0.05 mV), LVH: showing probable or definite left ventricular hypertrophy by Estes' criteria | Categorical |\n",
    "| MaxHR | Maximum heart rate achieved with numeric value between 60 and 202 | Continuous |\n",
    "| ExerciseAngina | Exercise-induced angina with Y: Yes, N: No. | Binary categorical |\n",
    "| Oldpeak | Oldpeak = ST with numeric value measured in depression. | Continuous |\n",
    "| ST_Slope | The slope of the peak exercise ST segment with Up: upsloping, Flat: flat, Down: downsloping. | Categorical |\n",
    "| HeartDisease | Output class with 1: heart disease, 0: Normal. | Binary categorical |"
   ]
  },
  {
   "cell_type": "markdown",
   "id": "151d1726",
   "metadata": {},
   "source": [
    "### 2.2. Importing data"
   ]
  },
  {
   "cell_type": "code",
   "execution_count": 2,
   "id": "16887810",
   "metadata": {},
   "outputs": [
    {
     "data": {
      "text/html": [
       "<div>\n",
       "<style scoped>\n",
       "    .dataframe tbody tr th:only-of-type {\n",
       "        vertical-align: middle;\n",
       "    }\n",
       "\n",
       "    .dataframe tbody tr th {\n",
       "        vertical-align: top;\n",
       "    }\n",
       "\n",
       "    .dataframe thead th {\n",
       "        text-align: right;\n",
       "    }\n",
       "</style>\n",
       "<table border=\"1\" class=\"dataframe\">\n",
       "  <thead>\n",
       "    <tr style=\"text-align: right;\">\n",
       "      <th></th>\n",
       "      <th>Age</th>\n",
       "      <th>Sex</th>\n",
       "      <th>ChestPainType</th>\n",
       "      <th>RestingBP</th>\n",
       "      <th>Cholesterol</th>\n",
       "      <th>FastingBS</th>\n",
       "      <th>RestingECG</th>\n",
       "      <th>MaxHR</th>\n",
       "      <th>ExerciseAngina</th>\n",
       "      <th>Oldpeak</th>\n",
       "      <th>ST_Slope</th>\n",
       "      <th>HeartDisease</th>\n",
       "    </tr>\n",
       "  </thead>\n",
       "  <tbody>\n",
       "    <tr>\n",
       "      <th>0</th>\n",
       "      <td>40</td>\n",
       "      <td>M</td>\n",
       "      <td>ATA</td>\n",
       "      <td>140</td>\n",
       "      <td>289</td>\n",
       "      <td>0</td>\n",
       "      <td>Normal</td>\n",
       "      <td>172</td>\n",
       "      <td>N</td>\n",
       "      <td>0.0</td>\n",
       "      <td>Up</td>\n",
       "      <td>0</td>\n",
       "    </tr>\n",
       "    <tr>\n",
       "      <th>1</th>\n",
       "      <td>49</td>\n",
       "      <td>F</td>\n",
       "      <td>NAP</td>\n",
       "      <td>160</td>\n",
       "      <td>180</td>\n",
       "      <td>0</td>\n",
       "      <td>Normal</td>\n",
       "      <td>156</td>\n",
       "      <td>N</td>\n",
       "      <td>1.0</td>\n",
       "      <td>Flat</td>\n",
       "      <td>1</td>\n",
       "    </tr>\n",
       "    <tr>\n",
       "      <th>2</th>\n",
       "      <td>37</td>\n",
       "      <td>M</td>\n",
       "      <td>ATA</td>\n",
       "      <td>130</td>\n",
       "      <td>283</td>\n",
       "      <td>0</td>\n",
       "      <td>ST</td>\n",
       "      <td>98</td>\n",
       "      <td>N</td>\n",
       "      <td>0.0</td>\n",
       "      <td>Up</td>\n",
       "      <td>0</td>\n",
       "    </tr>\n",
       "    <tr>\n",
       "      <th>3</th>\n",
       "      <td>48</td>\n",
       "      <td>F</td>\n",
       "      <td>ASY</td>\n",
       "      <td>138</td>\n",
       "      <td>214</td>\n",
       "      <td>0</td>\n",
       "      <td>Normal</td>\n",
       "      <td>108</td>\n",
       "      <td>Y</td>\n",
       "      <td>1.5</td>\n",
       "      <td>Flat</td>\n",
       "      <td>1</td>\n",
       "    </tr>\n",
       "    <tr>\n",
       "      <th>4</th>\n",
       "      <td>54</td>\n",
       "      <td>M</td>\n",
       "      <td>NAP</td>\n",
       "      <td>150</td>\n",
       "      <td>195</td>\n",
       "      <td>0</td>\n",
       "      <td>Normal</td>\n",
       "      <td>122</td>\n",
       "      <td>N</td>\n",
       "      <td>0.0</td>\n",
       "      <td>Up</td>\n",
       "      <td>0</td>\n",
       "    </tr>\n",
       "    <tr>\n",
       "      <th>5</th>\n",
       "      <td>39</td>\n",
       "      <td>M</td>\n",
       "      <td>NAP</td>\n",
       "      <td>120</td>\n",
       "      <td>339</td>\n",
       "      <td>0</td>\n",
       "      <td>Normal</td>\n",
       "      <td>170</td>\n",
       "      <td>N</td>\n",
       "      <td>0.0</td>\n",
       "      <td>Up</td>\n",
       "      <td>0</td>\n",
       "    </tr>\n",
       "    <tr>\n",
       "      <th>6</th>\n",
       "      <td>45</td>\n",
       "      <td>F</td>\n",
       "      <td>ATA</td>\n",
       "      <td>130</td>\n",
       "      <td>237</td>\n",
       "      <td>0</td>\n",
       "      <td>Normal</td>\n",
       "      <td>170</td>\n",
       "      <td>N</td>\n",
       "      <td>0.0</td>\n",
       "      <td>Up</td>\n",
       "      <td>0</td>\n",
       "    </tr>\n",
       "    <tr>\n",
       "      <th>7</th>\n",
       "      <td>54</td>\n",
       "      <td>M</td>\n",
       "      <td>ATA</td>\n",
       "      <td>110</td>\n",
       "      <td>208</td>\n",
       "      <td>0</td>\n",
       "      <td>Normal</td>\n",
       "      <td>142</td>\n",
       "      <td>N</td>\n",
       "      <td>0.0</td>\n",
       "      <td>Up</td>\n",
       "      <td>0</td>\n",
       "    </tr>\n",
       "  </tbody>\n",
       "</table>\n",
       "</div>"
      ],
      "text/plain": [
       "   Age Sex ChestPainType  RestingBP  Cholesterol  FastingBS RestingECG  MaxHR  \\\n",
       "0   40   M           ATA        140          289          0     Normal    172   \n",
       "1   49   F           NAP        160          180          0     Normal    156   \n",
       "2   37   M           ATA        130          283          0         ST     98   \n",
       "3   48   F           ASY        138          214          0     Normal    108   \n",
       "4   54   M           NAP        150          195          0     Normal    122   \n",
       "5   39   M           NAP        120          339          0     Normal    170   \n",
       "6   45   F           ATA        130          237          0     Normal    170   \n",
       "7   54   M           ATA        110          208          0     Normal    142   \n",
       "\n",
       "  ExerciseAngina  Oldpeak ST_Slope  HeartDisease  \n",
       "0              N      0.0       Up             0  \n",
       "1              N      1.0     Flat             1  \n",
       "2              N      0.0       Up             0  \n",
       "3              Y      1.5     Flat             1  \n",
       "4              N      0.0       Up             0  \n",
       "5              N      0.0       Up             0  \n",
       "6              N      0.0       Up             0  \n",
       "7              N      0.0       Up             0  "
      ]
     },
     "execution_count": 2,
     "metadata": {},
     "output_type": "execute_result"
    }
   ],
   "source": [
    "PATH = \"../data/heart.csv\"\n",
    "raw_data = pd.read_csv(PATH, sep=',')\n",
    "raw_data.head(8)"
   ]
  },
  {
   "cell_type": "code",
   "execution_count": 3,
   "id": "25bcce01",
   "metadata": {},
   "outputs": [
    {
     "data": {
      "text/plain": [
       "(918, 12)"
      ]
     },
     "execution_count": 3,
     "metadata": {},
     "output_type": "execute_result"
    }
   ],
   "source": [
    "raw_data.shape"
   ]
  },
  {
   "cell_type": "markdown",
   "id": "c764da4c",
   "metadata": {},
   "source": [
    "### 2.3. Analysing data"
   ]
  },
  {
   "cell_type": "code",
   "execution_count": 4,
   "id": "55ddd0ab",
   "metadata": {
    "scrolled": true
   },
   "outputs": [
    {
     "data": {
      "text/html": [
       "<div>\n",
       "<style scoped>\n",
       "    .dataframe tbody tr th:only-of-type {\n",
       "        vertical-align: middle;\n",
       "    }\n",
       "\n",
       "    .dataframe tbody tr th {\n",
       "        vertical-align: top;\n",
       "    }\n",
       "\n",
       "    .dataframe thead th {\n",
       "        text-align: right;\n",
       "    }\n",
       "</style>\n",
       "<table border=\"1\" class=\"dataframe\">\n",
       "  <thead>\n",
       "    <tr style=\"text-align: right;\">\n",
       "      <th></th>\n",
       "      <th>Age</th>\n",
       "      <th>RestingBP</th>\n",
       "      <th>Cholesterol</th>\n",
       "      <th>FastingBS</th>\n",
       "      <th>MaxHR</th>\n",
       "      <th>Oldpeak</th>\n",
       "      <th>HeartDisease</th>\n",
       "    </tr>\n",
       "  </thead>\n",
       "  <tbody>\n",
       "    <tr>\n",
       "      <th>Age</th>\n",
       "      <td>1.000000</td>\n",
       "      <td>0.254399</td>\n",
       "      <td>-0.095282</td>\n",
       "      <td>0.198039</td>\n",
       "      <td>-0.382045</td>\n",
       "      <td>0.258612</td>\n",
       "      <td>0.282039</td>\n",
       "    </tr>\n",
       "    <tr>\n",
       "      <th>RestingBP</th>\n",
       "      <td>0.254399</td>\n",
       "      <td>1.000000</td>\n",
       "      <td>0.100893</td>\n",
       "      <td>0.070193</td>\n",
       "      <td>-0.112135</td>\n",
       "      <td>0.164803</td>\n",
       "      <td>0.107589</td>\n",
       "    </tr>\n",
       "    <tr>\n",
       "      <th>Cholesterol</th>\n",
       "      <td>-0.095282</td>\n",
       "      <td>0.100893</td>\n",
       "      <td>1.000000</td>\n",
       "      <td>-0.260974</td>\n",
       "      <td>0.235792</td>\n",
       "      <td>0.050148</td>\n",
       "      <td>-0.232741</td>\n",
       "    </tr>\n",
       "    <tr>\n",
       "      <th>FastingBS</th>\n",
       "      <td>0.198039</td>\n",
       "      <td>0.070193</td>\n",
       "      <td>-0.260974</td>\n",
       "      <td>1.000000</td>\n",
       "      <td>-0.131438</td>\n",
       "      <td>0.052698</td>\n",
       "      <td>0.267291</td>\n",
       "    </tr>\n",
       "    <tr>\n",
       "      <th>MaxHR</th>\n",
       "      <td>-0.382045</td>\n",
       "      <td>-0.112135</td>\n",
       "      <td>0.235792</td>\n",
       "      <td>-0.131438</td>\n",
       "      <td>1.000000</td>\n",
       "      <td>-0.160691</td>\n",
       "      <td>-0.400421</td>\n",
       "    </tr>\n",
       "    <tr>\n",
       "      <th>Oldpeak</th>\n",
       "      <td>0.258612</td>\n",
       "      <td>0.164803</td>\n",
       "      <td>0.050148</td>\n",
       "      <td>0.052698</td>\n",
       "      <td>-0.160691</td>\n",
       "      <td>1.000000</td>\n",
       "      <td>0.403951</td>\n",
       "    </tr>\n",
       "    <tr>\n",
       "      <th>HeartDisease</th>\n",
       "      <td>0.282039</td>\n",
       "      <td>0.107589</td>\n",
       "      <td>-0.232741</td>\n",
       "      <td>0.267291</td>\n",
       "      <td>-0.400421</td>\n",
       "      <td>0.403951</td>\n",
       "      <td>1.000000</td>\n",
       "    </tr>\n",
       "  </tbody>\n",
       "</table>\n",
       "</div>"
      ],
      "text/plain": [
       "                   Age  RestingBP  Cholesterol  FastingBS     MaxHR   Oldpeak  \\\n",
       "Age           1.000000   0.254399    -0.095282   0.198039 -0.382045  0.258612   \n",
       "RestingBP     0.254399   1.000000     0.100893   0.070193 -0.112135  0.164803   \n",
       "Cholesterol  -0.095282   0.100893     1.000000  -0.260974  0.235792  0.050148   \n",
       "FastingBS     0.198039   0.070193    -0.260974   1.000000 -0.131438  0.052698   \n",
       "MaxHR        -0.382045  -0.112135     0.235792  -0.131438  1.000000 -0.160691   \n",
       "Oldpeak       0.258612   0.164803     0.050148   0.052698 -0.160691  1.000000   \n",
       "HeartDisease  0.282039   0.107589    -0.232741   0.267291 -0.400421  0.403951   \n",
       "\n",
       "              HeartDisease  \n",
       "Age               0.282039  \n",
       "RestingBP         0.107589  \n",
       "Cholesterol      -0.232741  \n",
       "FastingBS         0.267291  \n",
       "MaxHR            -0.400421  \n",
       "Oldpeak           0.403951  \n",
       "HeartDisease      1.000000  "
      ]
     },
     "execution_count": 4,
     "metadata": {},
     "output_type": "execute_result"
    }
   ],
   "source": [
    "raw_data_corr = raw_data.corr()\n",
    "raw_data_corr"
   ]
  },
  {
   "cell_type": "code",
   "execution_count": 5,
   "id": "47841a47",
   "metadata": {},
   "outputs": [
    {
     "data": {
      "image/png": "[encoded data removed]",
      "text/plain": [
       "<Figure size 432x288 with 2 Axes>"
      ]
     },
     "metadata": {
      "needs_background": "light"
     },
     "output_type": "display_data"
    }
   ],
   "source": [
    "sns.heatmap(raw_data_corr, annot=True, cmap=\"Blues\")\n",
    "plt.show()"
   ]
  },
  {
   "cell_type": "markdown",
   "id": "678c4a20",
   "metadata": {},
   "source": [
    "Age, FastingBS and Oldpeak seems to be the attributes with the highest correlation with Heart Disease. MAXHR and HeartDisease also have a high negative correlation."
   ]
  },
  {
   "cell_type": "markdown",
   "id": "b22cc8f2",
   "metadata": {},
   "source": [
    "#### Initial attribute types"
   ]
  },
  {
   "cell_type": "code",
   "execution_count": 6,
   "id": "ee8ae252",
   "metadata": {
    "scrolled": true
   },
   "outputs": [
    {
     "name": "stdout",
     "output_type": "stream",
     "text": [
      "<class 'pandas.core.frame.DataFrame'>\n",
      "RangeIndex: 918 entries, 0 to 917\n",
      "Data columns (total 12 columns):\n",
      " #   Column          Non-Null Count  Dtype  \n",
      "---  ------          --------------  -----  \n",
      " 0   Age             918 non-null    int64  \n",
      " 1   Sex             918 non-null    object \n",
      " 2   ChestPainType   918 non-null    object \n",
      " 3   RestingBP       918 non-null    int64  \n",
      " 4   Cholesterol     918 non-null    int64  \n",
      " 5   FastingBS       918 non-null    int64  \n",
      " 6   RestingECG      918 non-null    object \n",
      " 7   MaxHR           918 non-null    int64  \n",
      " 8   ExerciseAngina  918 non-null    object \n",
      " 9   Oldpeak         918 non-null    float64\n",
      " 10  ST_Slope        918 non-null    object \n",
      " 11  HeartDisease    918 non-null    int64  \n",
      "dtypes: float64(1), int64(6), object(5)\n",
      "memory usage: 86.2+ KB\n"
     ]
    }
   ],
   "source": [
    "raw_data.info()"
   ]
  },
  {
   "cell_type": "code",
   "execution_count": 7,
   "id": "124a2492",
   "metadata": {},
   "outputs": [
    {
     "data": {
      "text/html": [
       "<div>\n",
       "<style scoped>\n",
       "    .dataframe tbody tr th:only-of-type {\n",
       "        vertical-align: middle;\n",
       "    }\n",
       "\n",
       "    .dataframe tbody tr th {\n",
       "        vertical-align: top;\n",
       "    }\n",
       "\n",
       "    .dataframe thead th {\n",
       "        text-align: right;\n",
       "    }\n",
       "</style>\n",
       "<table border=\"1\" class=\"dataframe\">\n",
       "  <thead>\n",
       "    <tr style=\"text-align: right;\">\n",
       "      <th></th>\n",
       "      <th>Age</th>\n",
       "      <th>RestingBP</th>\n",
       "      <th>Cholesterol</th>\n",
       "      <th>FastingBS</th>\n",
       "      <th>MaxHR</th>\n",
       "      <th>Oldpeak</th>\n",
       "      <th>HeartDisease</th>\n",
       "    </tr>\n",
       "  </thead>\n",
       "  <tbody>\n",
       "    <tr>\n",
       "      <th>count</th>\n",
       "      <td>918.000000</td>\n",
       "      <td>918.000000</td>\n",
       "      <td>918.000000</td>\n",
       "      <td>918.000000</td>\n",
       "      <td>918.000000</td>\n",
       "      <td>918.000000</td>\n",
       "      <td>918.000000</td>\n",
       "    </tr>\n",
       "    <tr>\n",
       "      <th>mean</th>\n",
       "      <td>53.510893</td>\n",
       "      <td>132.396514</td>\n",
       "      <td>198.799564</td>\n",
       "      <td>0.233115</td>\n",
       "      <td>136.809368</td>\n",
       "      <td>0.887364</td>\n",
       "      <td>0.553377</td>\n",
       "    </tr>\n",
       "    <tr>\n",
       "      <th>std</th>\n",
       "      <td>9.432617</td>\n",
       "      <td>18.514154</td>\n",
       "      <td>109.384145</td>\n",
       "      <td>0.423046</td>\n",
       "      <td>25.460334</td>\n",
       "      <td>1.066570</td>\n",
       "      <td>0.497414</td>\n",
       "    </tr>\n",
       "    <tr>\n",
       "      <th>min</th>\n",
       "      <td>28.000000</td>\n",
       "      <td>0.000000</td>\n",
       "      <td>0.000000</td>\n",
       "      <td>0.000000</td>\n",
       "      <td>60.000000</td>\n",
       "      <td>-2.600000</td>\n",
       "      <td>0.000000</td>\n",
       "    </tr>\n",
       "    <tr>\n",
       "      <th>25%</th>\n",
       "      <td>47.000000</td>\n",
       "      <td>120.000000</td>\n",
       "      <td>173.250000</td>\n",
       "      <td>0.000000</td>\n",
       "      <td>120.000000</td>\n",
       "      <td>0.000000</td>\n",
       "      <td>0.000000</td>\n",
       "    </tr>\n",
       "    <tr>\n",
       "      <th>50%</th>\n",
       "      <td>54.000000</td>\n",
       "      <td>130.000000</td>\n",
       "      <td>223.000000</td>\n",
       "      <td>0.000000</td>\n",
       "      <td>138.000000</td>\n",
       "      <td>0.600000</td>\n",
       "      <td>1.000000</td>\n",
       "    </tr>\n",
       "    <tr>\n",
       "      <th>75%</th>\n",
       "      <td>60.000000</td>\n",
       "      <td>140.000000</td>\n",
       "      <td>267.000000</td>\n",
       "      <td>0.000000</td>\n",
       "      <td>156.000000</td>\n",
       "      <td>1.500000</td>\n",
       "      <td>1.000000</td>\n",
       "    </tr>\n",
       "    <tr>\n",
       "      <th>max</th>\n",
       "      <td>77.000000</td>\n",
       "      <td>200.000000</td>\n",
       "      <td>603.000000</td>\n",
       "      <td>1.000000</td>\n",
       "      <td>202.000000</td>\n",
       "      <td>6.200000</td>\n",
       "      <td>1.000000</td>\n",
       "    </tr>\n",
       "  </tbody>\n",
       "</table>\n",
       "</div>"
      ],
      "text/plain": [
       "              Age   RestingBP  Cholesterol   FastingBS       MaxHR  \\\n",
       "count  918.000000  918.000000   918.000000  918.000000  918.000000   \n",
       "mean    53.510893  132.396514   198.799564    0.233115  136.809368   \n",
       "std      9.432617   18.514154   109.384145    0.423046   25.460334   \n",
       "min     28.000000    0.000000     0.000000    0.000000   60.000000   \n",
       "25%     47.000000  120.000000   173.250000    0.000000  120.000000   \n",
       "50%     54.000000  130.000000   223.000000    0.000000  138.000000   \n",
       "75%     60.000000  140.000000   267.000000    0.000000  156.000000   \n",
       "max     77.000000  200.000000   603.000000    1.000000  202.000000   \n",
       "\n",
       "          Oldpeak  HeartDisease  \n",
       "count  918.000000    918.000000  \n",
       "mean     0.887364      0.553377  \n",
       "std      1.066570      0.497414  \n",
       "min     -2.600000      0.000000  \n",
       "25%      0.000000      0.000000  \n",
       "50%      0.600000      1.000000  \n",
       "75%      1.500000      1.000000  \n",
       "max      6.200000      1.000000  "
      ]
     },
     "execution_count": 7,
     "metadata": {},
     "output_type": "execute_result"
    }
   ],
   "source": [
    "raw_data.describe()"
   ]
  },
  {
   "cell_type": "markdown",
   "id": "ec11ff32",
   "metadata": {},
   "source": [
    "#### Analysing continuous values"
   ]
  },
  {
   "cell_type": "code",
   "execution_count": 8,
   "id": "2cbd1914",
   "metadata": {
    "scrolled": true
   },
   "outputs": [
    {
     "data": {
      "text/html": [
       "<div>\n",
       "<style scoped>\n",
       "    .dataframe tbody tr th:only-of-type {\n",
       "        vertical-align: middle;\n",
       "    }\n",
       "\n",
       "    .dataframe tbody tr th {\n",
       "        vertical-align: top;\n",
       "    }\n",
       "\n",
       "    .dataframe thead th {\n",
       "        text-align: right;\n",
       "    }\n",
       "</style>\n",
       "<table border=\"1\" class=\"dataframe\">\n",
       "  <thead>\n",
       "    <tr style=\"text-align: right;\">\n",
       "      <th></th>\n",
       "      <th>Age</th>\n",
       "      <th>RestingBP</th>\n",
       "      <th>Cholesterol</th>\n",
       "      <th>MaxHR</th>\n",
       "      <th>Oldpeak</th>\n",
       "    </tr>\n",
       "  </thead>\n",
       "  <tbody>\n",
       "    <tr>\n",
       "      <th>count</th>\n",
       "      <td>918.000000</td>\n",
       "      <td>918.000000</td>\n",
       "      <td>918.000000</td>\n",
       "      <td>918.000000</td>\n",
       "      <td>918.000000</td>\n",
       "    </tr>\n",
       "    <tr>\n",
       "      <th>mean</th>\n",
       "      <td>53.510893</td>\n",
       "      <td>132.396514</td>\n",
       "      <td>198.799564</td>\n",
       "      <td>136.809368</td>\n",
       "      <td>0.887364</td>\n",
       "    </tr>\n",
       "    <tr>\n",
       "      <th>std</th>\n",
       "      <td>9.432617</td>\n",
       "      <td>18.514154</td>\n",
       "      <td>109.384145</td>\n",
       "      <td>25.460334</td>\n",
       "      <td>1.066570</td>\n",
       "    </tr>\n",
       "    <tr>\n",
       "      <th>min</th>\n",
       "      <td>28.000000</td>\n",
       "      <td>0.000000</td>\n",
       "      <td>0.000000</td>\n",
       "      <td>60.000000</td>\n",
       "      <td>-2.600000</td>\n",
       "    </tr>\n",
       "    <tr>\n",
       "      <th>25%</th>\n",
       "      <td>47.000000</td>\n",
       "      <td>120.000000</td>\n",
       "      <td>173.250000</td>\n",
       "      <td>120.000000</td>\n",
       "      <td>0.000000</td>\n",
       "    </tr>\n",
       "    <tr>\n",
       "      <th>50%</th>\n",
       "      <td>54.000000</td>\n",
       "      <td>130.000000</td>\n",
       "      <td>223.000000</td>\n",
       "      <td>138.000000</td>\n",
       "      <td>0.600000</td>\n",
       "    </tr>\n",
       "    <tr>\n",
       "      <th>75%</th>\n",
       "      <td>60.000000</td>\n",
       "      <td>140.000000</td>\n",
       "      <td>267.000000</td>\n",
       "      <td>156.000000</td>\n",
       "      <td>1.500000</td>\n",
       "    </tr>\n",
       "    <tr>\n",
       "      <th>max</th>\n",
       "      <td>77.000000</td>\n",
       "      <td>200.000000</td>\n",
       "      <td>603.000000</td>\n",
       "      <td>202.000000</td>\n",
       "      <td>6.200000</td>\n",
       "    </tr>\n",
       "  </tbody>\n",
       "</table>\n",
       "</div>"
      ],
      "text/plain": [
       "              Age   RestingBP  Cholesterol       MaxHR     Oldpeak\n",
       "count  918.000000  918.000000   918.000000  918.000000  918.000000\n",
       "mean    53.510893  132.396514   198.799564  136.809368    0.887364\n",
       "std      9.432617   18.514154   109.384145   25.460334    1.066570\n",
       "min     28.000000    0.000000     0.000000   60.000000   -2.600000\n",
       "25%     47.000000  120.000000   173.250000  120.000000    0.000000\n",
       "50%     54.000000  130.000000   223.000000  138.000000    0.600000\n",
       "75%     60.000000  140.000000   267.000000  156.000000    1.500000\n",
       "max     77.000000  200.000000   603.000000  202.000000    6.200000"
      ]
     },
     "execution_count": 8,
     "metadata": {},
     "output_type": "execute_result"
    }
   ],
   "source": [
    "continuous_variables = ['Age', 'RestingBP', 'Cholesterol', 'MaxHR', 'Oldpeak']\n",
    "raw_data[continuous_variables].describe()"
   ]
  },
  {
   "cell_type": "code",
   "execution_count": 9,
   "id": "55a60978",
   "metadata": {},
   "outputs": [
    {
     "data": {
      "image/png": "[encoded data removed]",
      "text/plain": [
       "<Figure size 720x360 with 2 Axes>"
      ]
     },
     "metadata": {
      "needs_background": "light"
     },
     "output_type": "display_data"
    }
   ],
   "source": [
    "fig, ax = plt.subplots(ncols=2, figsize=(10,5))\n",
    "\n",
    "output = sns.histplot(raw_data, x=\"RestingBP\", ax=ax[0])\n",
    "ax[0].set_title('RestingBP')\n",
    "\n",
    "output = sns.histplot(raw_data, x=\"Age\", ax=ax[1])\n",
    "ax[1].set_title('Age')\n",
    "    \n",
    "plt.show()"
   ]
  },
  {
   "cell_type": "code",
   "execution_count": 10,
   "id": "b04b18bc",
   "metadata": {},
   "outputs": [
    {
     "data": {
      "image/png": "[encoded data removed]",
      "text/plain": [
       "<Figure size 720x360 with 2 Axes>"
      ]
     },
     "metadata": {
      "needs_background": "light"
     },
     "output_type": "display_data"
    }
   ],
   "source": [
    "fig, ax = plt.subplots(ncols=2, figsize=(10,5))\n",
    "\n",
    "output = sns.histplot(raw_data, x=\"MaxHR\", ax=ax[0])\n",
    "ax[0].set_title('MaxHR')\n",
    "\n",
    "output = sns.histplot(raw_data, x=\"Oldpeak\", ax=ax[1])\n",
    "ax[1].set_title('Oldpeak')\n",
    "\n",
    "for a in ax.flat:\n",
    "    a.label_outer()\n",
    "    \n",
    "plt.show()"
   ]
  },
  {
   "cell_type": "code",
   "execution_count": 11,
   "id": "4197e235",
   "metadata": {
    "scrolled": false
   },
   "outputs": [
    {
     "data": {
      "image/png": "[encoded data removed]",
      "text/plain": [
       "<Figure size 360x360 with 1 Axes>"
      ]
     },
     "metadata": {
      "needs_background": "light"
     },
     "output_type": "display_data"
    }
   ],
   "source": [
    "sns.displot(raw_data, x=\"Cholesterol\")\n",
    "plt.title(\"Cholesterol\")\n",
    "plt.show()"
   ]
  },
  {
   "cell_type": "markdown",
   "id": "c9c6c227",
   "metadata": {},
   "source": [
    "#### Description of categorical values"
   ]
  },
  {
   "cell_type": "code",
   "execution_count": 12,
   "id": "5496eda3",
   "metadata": {},
   "outputs": [
    {
     "data": {
      "text/plain": [
       "M    0.78976\n",
       "F    0.21024\n",
       "Name: Sex, dtype: float64"
      ]
     },
     "execution_count": 12,
     "metadata": {},
     "output_type": "execute_result"
    }
   ],
   "source": [
    "raw_data['Sex'].value_counts(normalize=True)"
   ]
  },
  {
   "cell_type": "code",
   "execution_count": 13,
   "id": "193b85b4",
   "metadata": {},
   "outputs": [
    {
     "data": {
      "text/plain": [
       "ASY    0.540305\n",
       "NAP    0.221133\n",
       "ATA    0.188453\n",
       "TA     0.050109\n",
       "Name: ChestPainType, dtype: float64"
      ]
     },
     "execution_count": 13,
     "metadata": {},
     "output_type": "execute_result"
    }
   ],
   "source": [
    "raw_data['ChestPainType'].value_counts(normalize=True)"
   ]
  },
  {
   "cell_type": "code",
   "execution_count": 14,
   "id": "bbf268e1",
   "metadata": {},
   "outputs": [
    {
     "data": {
      "text/plain": [
       "0    0.766885\n",
       "1    0.233115\n",
       "Name: FastingBS, dtype: float64"
      ]
     },
     "execution_count": 14,
     "metadata": {},
     "output_type": "execute_result"
    }
   ],
   "source": [
    "raw_data['FastingBS'].value_counts(normalize=True)"
   ]
  },
  {
   "cell_type": "code",
   "execution_count": 15,
   "id": "7c3c6dd7",
   "metadata": {},
   "outputs": [
    {
     "data": {
      "text/plain": [
       "Normal    0.601307\n",
       "LVH       0.204793\n",
       "ST        0.193900\n",
       "Name: RestingECG, dtype: float64"
      ]
     },
     "execution_count": 15,
     "metadata": {},
     "output_type": "execute_result"
    }
   ],
   "source": [
    "raw_data['RestingECG'].value_counts(normalize=True)"
   ]
  },
  {
   "cell_type": "code",
   "execution_count": 16,
   "id": "e674b58a",
   "metadata": {},
   "outputs": [
    {
     "data": {
      "text/plain": [
       "N    0.595861\n",
       "Y    0.404139\n",
       "Name: ExerciseAngina, dtype: float64"
      ]
     },
     "execution_count": 16,
     "metadata": {},
     "output_type": "execute_result"
    }
   ],
   "source": [
    "raw_data['ExerciseAngina'].value_counts(normalize=True)"
   ]
  },
  {
   "cell_type": "code",
   "execution_count": 17,
   "id": "a87f9c3a",
   "metadata": {
    "scrolled": true
   },
   "outputs": [
    {
     "data": {
      "text/plain": [
       "Flat    0.501089\n",
       "Up      0.430283\n",
       "Down    0.068627\n",
       "Name: ST_Slope, dtype: float64"
      ]
     },
     "execution_count": 17,
     "metadata": {},
     "output_type": "execute_result"
    }
   ],
   "source": [
    "raw_data['ST_Slope'].value_counts(normalize=True)"
   ]
  },
  {
   "cell_type": "code",
   "execution_count": 18,
   "id": "70bb283d",
   "metadata": {
    "scrolled": true
   },
   "outputs": [
    {
     "data": {
      "text/plain": [
       "1    0.553377\n",
       "0    0.446623\n",
       "Name: HeartDisease, dtype: float64"
      ]
     },
     "execution_count": 18,
     "metadata": {},
     "output_type": "execute_result"
    }
   ],
   "source": [
    "raw_data['HeartDisease'].value_counts(normalize=True)"
   ]
  },
  {
   "cell_type": "code",
   "execution_count": 19,
   "id": "e2662a98",
   "metadata": {},
   "outputs": [],
   "source": [
    "sex_dict = {\"M\":0, \"F\":1}\n",
    "chestpain_dict = {\"ASY\":1, \"NAP\":2, \"ATA\":3, \"TA\": 4}\n",
    "resting_dict = {\"Normal\":1, \"LVH\":2, \"ST\":3}\n",
    "exercise_dict = {\"N\":0, \"Y\":1}\n",
    "slope_dict = {\"Flat\":1, \"Up\":2, \"Down\":3}\n",
    "\n",
    "category_dict = {\"Sex\":sex_dict, \n",
    "                 \"ChestPainType\":chestpain_dict, \n",
    "                 \"RestingECG\": resting_dict, \n",
    "                 \"ExerciseAngina\":exercise_dict, \n",
    "                 \"ST_Slope\":slope_dict}"
   ]
  },
  {
   "cell_type": "code",
   "execution_count": 20,
   "id": "da85bdc1",
   "metadata": {},
   "outputs": [],
   "source": [
    "treated_cat_data = raw_data.replace(category_dict)"
   ]
  },
  {
   "cell_type": "markdown",
   "id": "6c90fb5d",
   "metadata": {},
   "source": [
    "#### Analyzing cholesterol"
   ]
  },
  {
   "cell_type": "code",
   "execution_count": 21,
   "id": "6f54d35f",
   "metadata": {},
   "outputs": [],
   "source": [
    "zero_cholesterol = treated_cat_data[treated_cat_data['Cholesterol'] == 0]"
   ]
  },
  {
   "cell_type": "code",
   "execution_count": 22,
   "id": "25e6005d",
   "metadata": {
    "scrolled": false
   },
   "outputs": [
    {
     "data": {
      "text/html": [
       "<div>\n",
       "<style scoped>\n",
       "    .dataframe tbody tr th:only-of-type {\n",
       "        vertical-align: middle;\n",
       "    }\n",
       "\n",
       "    .dataframe tbody tr th {\n",
       "        vertical-align: top;\n",
       "    }\n",
       "\n",
       "    .dataframe thead th {\n",
       "        text-align: right;\n",
       "    }\n",
       "</style>\n",
       "<table border=\"1\" class=\"dataframe\">\n",
       "  <thead>\n",
       "    <tr style=\"text-align: right;\">\n",
       "      <th></th>\n",
       "      <th>Age</th>\n",
       "      <th>Sex</th>\n",
       "      <th>ChestPainType</th>\n",
       "      <th>RestingBP</th>\n",
       "      <th>Cholesterol</th>\n",
       "      <th>FastingBS</th>\n",
       "      <th>RestingECG</th>\n",
       "      <th>MaxHR</th>\n",
       "      <th>ExerciseAngina</th>\n",
       "      <th>Oldpeak</th>\n",
       "      <th>ST_Slope</th>\n",
       "      <th>HeartDisease</th>\n",
       "    </tr>\n",
       "  </thead>\n",
       "  <tbody>\n",
       "    <tr>\n",
       "      <th>count</th>\n",
       "      <td>172.000000</td>\n",
       "      <td>172.000000</td>\n",
       "      <td>172.000000</td>\n",
       "      <td>172.000000</td>\n",
       "      <td>172.0</td>\n",
       "      <td>172.000000</td>\n",
       "      <td>172.000000</td>\n",
       "      <td>172.000000</td>\n",
       "      <td>172.000000</td>\n",
       "      <td>172.000000</td>\n",
       "      <td>172.000000</td>\n",
       "      <td>172.000000</td>\n",
       "    </tr>\n",
       "    <tr>\n",
       "      <th>mean</th>\n",
       "      <td>56.238372</td>\n",
       "      <td>0.063953</td>\n",
       "      <td>1.366279</td>\n",
       "      <td>129.680233</td>\n",
       "      <td>0.0</td>\n",
       "      <td>0.517442</td>\n",
       "      <td>1.686047</td>\n",
       "      <td>121.988372</td>\n",
       "      <td>0.488372</td>\n",
       "      <td>0.825581</td>\n",
       "      <td>1.500000</td>\n",
       "      <td>0.883721</td>\n",
       "    </tr>\n",
       "    <tr>\n",
       "      <th>std</th>\n",
       "      <td>8.616327</td>\n",
       "      <td>0.245384</td>\n",
       "      <td>0.700561</td>\n",
       "      <td>22.971558</td>\n",
       "      <td>0.0</td>\n",
       "      <td>0.501155</td>\n",
       "      <td>0.914620</td>\n",
       "      <td>24.166331</td>\n",
       "      <td>0.501324</td>\n",
       "      <td>1.039645</td>\n",
       "      <td>0.696692</td>\n",
       "      <td>0.321495</td>\n",
       "    </tr>\n",
       "    <tr>\n",
       "      <th>min</th>\n",
       "      <td>32.000000</td>\n",
       "      <td>0.000000</td>\n",
       "      <td>1.000000</td>\n",
       "      <td>0.000000</td>\n",
       "      <td>0.0</td>\n",
       "      <td>0.000000</td>\n",
       "      <td>1.000000</td>\n",
       "      <td>60.000000</td>\n",
       "      <td>0.000000</td>\n",
       "      <td>-2.600000</td>\n",
       "      <td>1.000000</td>\n",
       "      <td>0.000000</td>\n",
       "    </tr>\n",
       "    <tr>\n",
       "      <th>25%</th>\n",
       "      <td>51.750000</td>\n",
       "      <td>0.000000</td>\n",
       "      <td>1.000000</td>\n",
       "      <td>115.000000</td>\n",
       "      <td>0.0</td>\n",
       "      <td>0.000000</td>\n",
       "      <td>1.000000</td>\n",
       "      <td>108.000000</td>\n",
       "      <td>0.000000</td>\n",
       "      <td>0.000000</td>\n",
       "      <td>1.000000</td>\n",
       "      <td>1.000000</td>\n",
       "    </tr>\n",
       "    <tr>\n",
       "      <th>50%</th>\n",
       "      <td>57.500000</td>\n",
       "      <td>0.000000</td>\n",
       "      <td>1.000000</td>\n",
       "      <td>129.000000</td>\n",
       "      <td>0.0</td>\n",
       "      <td>1.000000</td>\n",
       "      <td>1.000000</td>\n",
       "      <td>120.000000</td>\n",
       "      <td>0.000000</td>\n",
       "      <td>0.750000</td>\n",
       "      <td>1.000000</td>\n",
       "      <td>1.000000</td>\n",
       "    </tr>\n",
       "    <tr>\n",
       "      <th>75%</th>\n",
       "      <td>62.000000</td>\n",
       "      <td>0.000000</td>\n",
       "      <td>2.000000</td>\n",
       "      <td>140.000000</td>\n",
       "      <td>0.0</td>\n",
       "      <td>1.000000</td>\n",
       "      <td>3.000000</td>\n",
       "      <td>138.250000</td>\n",
       "      <td>1.000000</td>\n",
       "      <td>1.500000</td>\n",
       "      <td>2.000000</td>\n",
       "      <td>1.000000</td>\n",
       "    </tr>\n",
       "    <tr>\n",
       "      <th>max</th>\n",
       "      <td>74.000000</td>\n",
       "      <td>1.000000</td>\n",
       "      <td>4.000000</td>\n",
       "      <td>200.000000</td>\n",
       "      <td>0.0</td>\n",
       "      <td>1.000000</td>\n",
       "      <td>3.000000</td>\n",
       "      <td>182.000000</td>\n",
       "      <td>1.000000</td>\n",
       "      <td>3.700000</td>\n",
       "      <td>3.000000</td>\n",
       "      <td>1.000000</td>\n",
       "    </tr>\n",
       "  </tbody>\n",
       "</table>\n",
       "</div>"
      ],
      "text/plain": [
       "              Age         Sex  ChestPainType   RestingBP  Cholesterol  \\\n",
       "count  172.000000  172.000000     172.000000  172.000000        172.0   \n",
       "mean    56.238372    0.063953       1.366279  129.680233          0.0   \n",
       "std      8.616327    0.245384       0.700561   22.971558          0.0   \n",
       "min     32.000000    0.000000       1.000000    0.000000          0.0   \n",
       "25%     51.750000    0.000000       1.000000  115.000000          0.0   \n",
       "50%     57.500000    0.000000       1.000000  129.000000          0.0   \n",
       "75%     62.000000    0.000000       2.000000  140.000000          0.0   \n",
       "max     74.000000    1.000000       4.000000  200.000000          0.0   \n",
       "\n",
       "        FastingBS  RestingECG       MaxHR  ExerciseAngina     Oldpeak  \\\n",
       "count  172.000000  172.000000  172.000000      172.000000  172.000000   \n",
       "mean     0.517442    1.686047  121.988372        0.488372    0.825581   \n",
       "std      0.501155    0.914620   24.166331        0.501324    1.039645   \n",
       "min      0.000000    1.000000   60.000000        0.000000   -2.600000   \n",
       "25%      0.000000    1.000000  108.000000        0.000000    0.000000   \n",
       "50%      1.000000    1.000000  120.000000        0.000000    0.750000   \n",
       "75%      1.000000    3.000000  138.250000        1.000000    1.500000   \n",
       "max      1.000000    3.000000  182.000000        1.000000    3.700000   \n",
       "\n",
       "         ST_Slope  HeartDisease  \n",
       "count  172.000000    172.000000  \n",
       "mean     1.500000      0.883721  \n",
       "std      0.696692      0.321495  \n",
       "min      1.000000      0.000000  \n",
       "25%      1.000000      1.000000  \n",
       "50%      1.000000      1.000000  \n",
       "75%      2.000000      1.000000  \n",
       "max      3.000000      1.000000  "
      ]
     },
     "execution_count": 22,
     "metadata": {},
     "output_type": "execute_result"
    }
   ],
   "source": [
    "zero_cholesterol.describe()"
   ]
  },
  {
   "cell_type": "code",
   "execution_count": 23,
   "id": "b280a7f1",
   "metadata": {},
   "outputs": [
    {
     "data": {
      "text/plain": [
       "1    0.517442\n",
       "0    0.482558\n",
       "Name: FastingBS, dtype: float64"
      ]
     },
     "execution_count": 23,
     "metadata": {},
     "output_type": "execute_result"
    }
   ],
   "source": [
    "zero_cholesterol[\"FastingBS\"].value_counts(normalize=True)"
   ]
  },
  {
   "cell_type": "code",
   "execution_count": 24,
   "id": "58275e0d",
   "metadata": {},
   "outputs": [
    {
     "data": {
      "text/plain": [
       "1    89\n",
       "0    83\n",
       "Name: FastingBS, dtype: int64"
      ]
     },
     "execution_count": 24,
     "metadata": {},
     "output_type": "execute_result"
    }
   ],
   "source": [
    "zero_cholesterol[\"FastingBS\"].value_counts()"
   ]
  },
  {
   "cell_type": "code",
   "execution_count": 25,
   "id": "a41fa9d8",
   "metadata": {
    "scrolled": true
   },
   "outputs": [
    {
     "data": {
      "text/plain": [
       "1    0.883721\n",
       "0    0.116279\n",
       "Name: HeartDisease, dtype: float64"
      ]
     },
     "execution_count": 25,
     "metadata": {},
     "output_type": "execute_result"
    }
   ],
   "source": [
    "zero_cholesterol[\"HeartDisease\"].value_counts(normalize=True)"
   ]
  },
  {
   "cell_type": "code",
   "execution_count": 26,
   "id": "000ffacb",
   "metadata": {
    "scrolled": true
   },
   "outputs": [
    {
     "data": {
      "text/plain": [
       "1    152\n",
       "0     20\n",
       "Name: HeartDisease, dtype: int64"
      ]
     },
     "execution_count": 26,
     "metadata": {},
     "output_type": "execute_result"
    }
   ],
   "source": [
    "zero_cholesterol[\"HeartDisease\"].value_counts()"
   ]
  },
  {
   "cell_type": "code",
   "execution_count": 27,
   "id": "b24fde78",
   "metadata": {},
   "outputs": [
    {
     "name": "stdout",
     "output_type": "stream",
     "text": [
      "Amount of cholesterol = 0 in the dataset: 18.74%\n"
     ]
    }
   ],
   "source": [
    "print(f\"Amount of cholesterol = 0 in the dataset: {len(zero_cholesterol)/918 * 100:0.2f}%\")"
   ]
  },
  {
   "cell_type": "code",
   "execution_count": 28,
   "id": "0b0b55c7",
   "metadata": {},
   "outputs": [
    {
     "data": {
      "text/html": [
       "<div>\n",
       "<style scoped>\n",
       "    .dataframe tbody tr th:only-of-type {\n",
       "        vertical-align: middle;\n",
       "    }\n",
       "\n",
       "    .dataframe tbody tr th {\n",
       "        vertical-align: top;\n",
       "    }\n",
       "\n",
       "    .dataframe thead th {\n",
       "        text-align: right;\n",
       "    }\n",
       "</style>\n",
       "<table border=\"1\" class=\"dataframe\">\n",
       "  <thead>\n",
       "    <tr style=\"text-align: right;\">\n",
       "      <th></th>\n",
       "      <th>Age</th>\n",
       "      <th>Sex</th>\n",
       "      <th>ChestPainType</th>\n",
       "      <th>RestingBP</th>\n",
       "      <th>Cholesterol</th>\n",
       "      <th>FastingBS</th>\n",
       "      <th>RestingECG</th>\n",
       "      <th>MaxHR</th>\n",
       "      <th>ExerciseAngina</th>\n",
       "      <th>Oldpeak</th>\n",
       "      <th>ST_Slope</th>\n",
       "      <th>HeartDisease</th>\n",
       "    </tr>\n",
       "  </thead>\n",
       "  <tbody>\n",
       "    <tr>\n",
       "      <th>count</th>\n",
       "      <td>746.000000</td>\n",
       "      <td>746.000000</td>\n",
       "      <td>746.000000</td>\n",
       "      <td>746.000000</td>\n",
       "      <td>746.000000</td>\n",
       "      <td>746.000000</td>\n",
       "      <td>746.000000</td>\n",
       "      <td>746.000000</td>\n",
       "      <td>746.000000</td>\n",
       "      <td>746.000000</td>\n",
       "      <td>746.000000</td>\n",
       "      <td>746.000000</td>\n",
       "    </tr>\n",
       "    <tr>\n",
       "      <th>mean</th>\n",
       "      <td>52.882038</td>\n",
       "      <td>0.243968</td>\n",
       "      <td>1.836461</td>\n",
       "      <td>133.022788</td>\n",
       "      <td>244.635389</td>\n",
       "      <td>0.167560</td>\n",
       "      <td>1.571046</td>\n",
       "      <td>140.226542</td>\n",
       "      <td>0.384718</td>\n",
       "      <td>0.901609</td>\n",
       "      <td>1.583110</td>\n",
       "      <td>0.477212</td>\n",
       "    </tr>\n",
       "    <tr>\n",
       "      <th>std</th>\n",
       "      <td>9.505888</td>\n",
       "      <td>0.429762</td>\n",
       "      <td>0.955414</td>\n",
       "      <td>17.282750</td>\n",
       "      <td>59.153524</td>\n",
       "      <td>0.373726</td>\n",
       "      <td>0.762136</td>\n",
       "      <td>24.524107</td>\n",
       "      <td>0.486855</td>\n",
       "      <td>1.072861</td>\n",
       "      <td>0.599045</td>\n",
       "      <td>0.499816</td>\n",
       "    </tr>\n",
       "    <tr>\n",
       "      <th>min</th>\n",
       "      <td>28.000000</td>\n",
       "      <td>0.000000</td>\n",
       "      <td>1.000000</td>\n",
       "      <td>92.000000</td>\n",
       "      <td>85.000000</td>\n",
       "      <td>0.000000</td>\n",
       "      <td>1.000000</td>\n",
       "      <td>69.000000</td>\n",
       "      <td>0.000000</td>\n",
       "      <td>-0.100000</td>\n",
       "      <td>1.000000</td>\n",
       "      <td>0.000000</td>\n",
       "    </tr>\n",
       "    <tr>\n",
       "      <th>25%</th>\n",
       "      <td>46.000000</td>\n",
       "      <td>0.000000</td>\n",
       "      <td>1.000000</td>\n",
       "      <td>120.000000</td>\n",
       "      <td>207.250000</td>\n",
       "      <td>0.000000</td>\n",
       "      <td>1.000000</td>\n",
       "      <td>122.000000</td>\n",
       "      <td>0.000000</td>\n",
       "      <td>0.000000</td>\n",
       "      <td>1.000000</td>\n",
       "      <td>0.000000</td>\n",
       "    </tr>\n",
       "    <tr>\n",
       "      <th>50%</th>\n",
       "      <td>54.000000</td>\n",
       "      <td>0.000000</td>\n",
       "      <td>2.000000</td>\n",
       "      <td>130.000000</td>\n",
       "      <td>237.000000</td>\n",
       "      <td>0.000000</td>\n",
       "      <td>1.000000</td>\n",
       "      <td>140.000000</td>\n",
       "      <td>0.000000</td>\n",
       "      <td>0.500000</td>\n",
       "      <td>2.000000</td>\n",
       "      <td>0.000000</td>\n",
       "    </tr>\n",
       "    <tr>\n",
       "      <th>75%</th>\n",
       "      <td>59.000000</td>\n",
       "      <td>0.000000</td>\n",
       "      <td>3.000000</td>\n",
       "      <td>140.000000</td>\n",
       "      <td>275.000000</td>\n",
       "      <td>0.000000</td>\n",
       "      <td>2.000000</td>\n",
       "      <td>160.000000</td>\n",
       "      <td>1.000000</td>\n",
       "      <td>1.500000</td>\n",
       "      <td>2.000000</td>\n",
       "      <td>1.000000</td>\n",
       "    </tr>\n",
       "    <tr>\n",
       "      <th>max</th>\n",
       "      <td>77.000000</td>\n",
       "      <td>1.000000</td>\n",
       "      <td>4.000000</td>\n",
       "      <td>200.000000</td>\n",
       "      <td>603.000000</td>\n",
       "      <td>1.000000</td>\n",
       "      <td>3.000000</td>\n",
       "      <td>202.000000</td>\n",
       "      <td>1.000000</td>\n",
       "      <td>6.200000</td>\n",
       "      <td>3.000000</td>\n",
       "      <td>1.000000</td>\n",
       "    </tr>\n",
       "  </tbody>\n",
       "</table>\n",
       "</div>"
      ],
      "text/plain": [
       "              Age         Sex  ChestPainType   RestingBP  Cholesterol  \\\n",
       "count  746.000000  746.000000     746.000000  746.000000   746.000000   \n",
       "mean    52.882038    0.243968       1.836461  133.022788   244.635389   \n",
       "std      9.505888    0.429762       0.955414   17.282750    59.153524   \n",
       "min     28.000000    0.000000       1.000000   92.000000    85.000000   \n",
       "25%     46.000000    0.000000       1.000000  120.000000   207.250000   \n",
       "50%     54.000000    0.000000       2.000000  130.000000   237.000000   \n",
       "75%     59.000000    0.000000       3.000000  140.000000   275.000000   \n",
       "max     77.000000    1.000000       4.000000  200.000000   603.000000   \n",
       "\n",
       "        FastingBS  RestingECG       MaxHR  ExerciseAngina     Oldpeak  \\\n",
       "count  746.000000  746.000000  746.000000      746.000000  746.000000   \n",
       "mean     0.167560    1.571046  140.226542        0.384718    0.901609   \n",
       "std      0.373726    0.762136   24.524107        0.486855    1.072861   \n",
       "min      0.000000    1.000000   69.000000        0.000000   -0.100000   \n",
       "25%      0.000000    1.000000  122.000000        0.000000    0.000000   \n",
       "50%      0.000000    1.000000  140.000000        0.000000    0.500000   \n",
       "75%      0.000000    2.000000  160.000000        1.000000    1.500000   \n",
       "max      1.000000    3.000000  202.000000        1.000000    6.200000   \n",
       "\n",
       "         ST_Slope  HeartDisease  \n",
       "count  746.000000    746.000000  \n",
       "mean     1.583110      0.477212  \n",
       "std      0.599045      0.499816  \n",
       "min      1.000000      0.000000  \n",
       "25%      1.000000      0.000000  \n",
       "50%      2.000000      0.000000  \n",
       "75%      2.000000      1.000000  \n",
       "max      3.000000      1.000000  "
      ]
     },
     "execution_count": 28,
     "metadata": {},
     "output_type": "execute_result"
    }
   ],
   "source": [
    "valued_cholesterol = treated_cat_data[treated_cat_data['Cholesterol'] != 0]\n",
    "valued_cholesterol.describe()"
   ]
  },
  {
   "cell_type": "code",
   "execution_count": 29,
   "id": "ecf5a88b",
   "metadata": {},
   "outputs": [
    {
     "data": {
      "text/plain": [
       "0    0.83244\n",
       "1    0.16756\n",
       "Name: FastingBS, dtype: float64"
      ]
     },
     "execution_count": 29,
     "metadata": {},
     "output_type": "execute_result"
    }
   ],
   "source": [
    "valued_cholesterol[\"FastingBS\"].value_counts(normalize=True)"
   ]
  },
  {
   "cell_type": "code",
   "execution_count": 30,
   "id": "41c7c650",
   "metadata": {},
   "outputs": [
    {
     "data": {
      "text/plain": [
       "0    621\n",
       "1    125\n",
       "Name: FastingBS, dtype: int64"
      ]
     },
     "execution_count": 30,
     "metadata": {},
     "output_type": "execute_result"
    }
   ],
   "source": [
    "valued_cholesterol[\"FastingBS\"].value_counts()"
   ]
  },
  {
   "cell_type": "code",
   "execution_count": 31,
   "id": "13f2bcfa",
   "metadata": {},
   "outputs": [
    {
     "data": {
      "text/plain": [
       "0    0.522788\n",
       "1    0.477212\n",
       "Name: HeartDisease, dtype: float64"
      ]
     },
     "execution_count": 31,
     "metadata": {},
     "output_type": "execute_result"
    }
   ],
   "source": [
    "valued_cholesterol[\"HeartDisease\"].value_counts(normalize=True)"
   ]
  },
  {
   "cell_type": "code",
   "execution_count": 32,
   "id": "bc8a5832",
   "metadata": {},
   "outputs": [
    {
     "data": {
      "text/plain": [
       "1    508\n",
       "0    410\n",
       "Name: HeartDisease, dtype: int64"
      ]
     },
     "execution_count": 32,
     "metadata": {},
     "output_type": "execute_result"
    }
   ],
   "source": [
    "treated_cat_data[\"HeartDisease\"].value_counts()"
   ]
  },
  {
   "cell_type": "code",
   "execution_count": 33,
   "id": "ea30526a",
   "metadata": {},
   "outputs": [
    {
     "data": {
      "text/plain": [
       "1    0.553377\n",
       "0    0.446623\n",
       "Name: HeartDisease, dtype: float64"
      ]
     },
     "execution_count": 33,
     "metadata": {},
     "output_type": "execute_result"
    }
   ],
   "source": [
    "treated_cat_data[\"HeartDisease\"].value_counts(normalize=True)"
   ]
  },
  {
   "cell_type": "code",
   "execution_count": 34,
   "id": "da633b03",
   "metadata": {},
   "outputs": [
    {
     "data": {
      "text/plain": [
       "0    0.766885\n",
       "1    0.233115\n",
       "Name: FastingBS, dtype: float64"
      ]
     },
     "execution_count": 34,
     "metadata": {},
     "output_type": "execute_result"
    }
   ],
   "source": [
    "treated_cat_data[\"FastingBS\"].value_counts(normalize=True)"
   ]
  },
  {
   "cell_type": "code",
   "execution_count": 35,
   "id": "ec9d5396",
   "metadata": {},
   "outputs": [
    {
     "data": {
      "text/plain": [
       "0    704\n",
       "1    214\n",
       "Name: FastingBS, dtype: int64"
      ]
     },
     "execution_count": 35,
     "metadata": {},
     "output_type": "execute_result"
    }
   ],
   "source": [
    "treated_cat_data[\"FastingBS\"].value_counts()"
   ]
  },
  {
   "cell_type": "code",
   "execution_count": 36,
   "id": "6b81bc96",
   "metadata": {},
   "outputs": [
    {
     "data": {
      "text/plain": [
       "0.2992125984251969"
      ]
     },
     "execution_count": 36,
     "metadata": {},
     "output_type": "execute_result"
    }
   ],
   "source": [
    "152/508"
   ]
  },
  {
   "cell_type": "code",
   "execution_count": 37,
   "id": "b788e99b",
   "metadata": {},
   "outputs": [
    {
     "data": {
      "text/plain": [
       "0.4158878504672897"
      ]
     },
     "execution_count": 37,
     "metadata": {},
     "output_type": "execute_result"
    }
   ],
   "source": [
    "89/214"
   ]
  },
  {
   "cell_type": "markdown",
   "id": "d05be94a",
   "metadata": {},
   "source": [
    "If the rows with cholesterol = 0 were to be removed, the class of HeatDisease would lose 29.9% of the positive cases. The ratio would go from 55:45 to 52:48, with 746 cases instead of 918. Also a lot of the cases (41.6%) of fasting don't have information on cholesterol. If we were to remove the tuples where cholesterol is 0, the situation where the patient isn't fasting  goes from 76.7% to 83.2%, making this attribute even more inbalanced."
   ]
  },
  {
   "cell_type": "code",
   "execution_count": 38,
   "id": "2ddb1d1e",
   "metadata": {},
   "outputs": [
    {
     "data": {
      "text/html": [
       "<div>\n",
       "<style scoped>\n",
       "    .dataframe tbody tr th:only-of-type {\n",
       "        vertical-align: middle;\n",
       "    }\n",
       "\n",
       "    .dataframe tbody tr th {\n",
       "        vertical-align: top;\n",
       "    }\n",
       "\n",
       "    .dataframe thead th {\n",
       "        text-align: right;\n",
       "    }\n",
       "</style>\n",
       "<table border=\"1\" class=\"dataframe\">\n",
       "  <thead>\n",
       "    <tr style=\"text-align: right;\">\n",
       "      <th></th>\n",
       "      <th>Age</th>\n",
       "      <th>Sex</th>\n",
       "      <th>ChestPainType</th>\n",
       "      <th>RestingBP</th>\n",
       "      <th>Cholesterol</th>\n",
       "      <th>FastingBS</th>\n",
       "      <th>RestingECG</th>\n",
       "      <th>MaxHR</th>\n",
       "      <th>ExerciseAngina</th>\n",
       "      <th>Oldpeak</th>\n",
       "      <th>ST_Slope</th>\n",
       "      <th>HeartDisease</th>\n",
       "    </tr>\n",
       "  </thead>\n",
       "  <tbody>\n",
       "    <tr>\n",
       "      <th>Age</th>\n",
       "      <td>1.000000</td>\n",
       "      <td>-0.044803</td>\n",
       "      <td>-0.183658</td>\n",
       "      <td>0.284774</td>\n",
       "      <td>0.083445</td>\n",
       "      <td>0.240171</td>\n",
       "      <td>0.240548</td>\n",
       "      <td>-0.363049</td>\n",
       "      <td>0.244779</td>\n",
       "      <td>0.334900</td>\n",
       "      <td>-0.151871</td>\n",
       "      <td>0.307044</td>\n",
       "    </tr>\n",
       "    <tr>\n",
       "      <th>Sex</th>\n",
       "      <td>-0.044803</td>\n",
       "      <td>1.000000</td>\n",
       "      <td>0.163711</td>\n",
       "      <td>-0.054076</td>\n",
       "      <td>0.092334</td>\n",
       "      <td>-0.096075</td>\n",
       "      <td>-0.013404</td>\n",
       "      <td>0.162833</td>\n",
       "      <td>-0.192579</td>\n",
       "      <td>-0.131660</td>\n",
       "      <td>0.076222</td>\n",
       "      <td>-0.292779</td>\n",
       "    </tr>\n",
       "    <tr>\n",
       "      <th>ChestPainType</th>\n",
       "      <td>-0.183658</td>\n",
       "      <td>0.163711</td>\n",
       "      <td>1.000000</td>\n",
       "      <td>-0.072640</td>\n",
       "      <td>-0.072627</td>\n",
       "      <td>-0.051374</td>\n",
       "      <td>-0.101541</td>\n",
       "      <td>0.370476</td>\n",
       "      <td>-0.474377</td>\n",
       "      <td>-0.343039</td>\n",
       "      <td>0.296713</td>\n",
       "      <td>-0.501939</td>\n",
       "    </tr>\n",
       "    <tr>\n",
       "      <th>RestingBP</th>\n",
       "      <td>0.284774</td>\n",
       "      <td>-0.054076</td>\n",
       "      <td>-0.072640</td>\n",
       "      <td>1.000000</td>\n",
       "      <td>0.092371</td>\n",
       "      <td>0.174927</td>\n",
       "      <td>0.087450</td>\n",
       "      <td>-0.131590</td>\n",
       "      <td>0.175679</td>\n",
       "      <td>0.200337</td>\n",
       "      <td>-0.065104</td>\n",
       "      <td>0.177632</td>\n",
       "    </tr>\n",
       "    <tr>\n",
       "      <th>Cholesterol</th>\n",
       "      <td>0.083445</td>\n",
       "      <td>0.092334</td>\n",
       "      <td>-0.072627</td>\n",
       "      <td>0.092371</td>\n",
       "      <td>1.000000</td>\n",
       "      <td>0.044568</td>\n",
       "      <td>0.044312</td>\n",
       "      <td>-0.002708</td>\n",
       "      <td>0.112084</td>\n",
       "      <td>0.086065</td>\n",
       "      <td>-0.086136</td>\n",
       "      <td>0.114898</td>\n",
       "    </tr>\n",
       "    <tr>\n",
       "      <th>FastingBS</th>\n",
       "      <td>0.240171</td>\n",
       "      <td>-0.096075</td>\n",
       "      <td>-0.051374</td>\n",
       "      <td>0.174927</td>\n",
       "      <td>0.044568</td>\n",
       "      <td>1.000000</td>\n",
       "      <td>0.173260</td>\n",
       "      <td>-0.097683</td>\n",
       "      <td>0.109995</td>\n",
       "      <td>0.095044</td>\n",
       "      <td>-0.075458</td>\n",
       "      <td>0.160594</td>\n",
       "    </tr>\n",
       "    <tr>\n",
       "      <th>RestingECG</th>\n",
       "      <td>0.240548</td>\n",
       "      <td>-0.013404</td>\n",
       "      <td>-0.101541</td>\n",
       "      <td>0.087450</td>\n",
       "      <td>0.044312</td>\n",
       "      <td>0.173260</td>\n",
       "      <td>1.000000</td>\n",
       "      <td>-0.090958</td>\n",
       "      <td>0.112645</td>\n",
       "      <td>0.127309</td>\n",
       "      <td>-0.050351</td>\n",
       "      <td>0.135957</td>\n",
       "    </tr>\n",
       "    <tr>\n",
       "      <th>MaxHR</th>\n",
       "      <td>-0.363049</td>\n",
       "      <td>0.162833</td>\n",
       "      <td>0.370476</td>\n",
       "      <td>-0.131590</td>\n",
       "      <td>-0.002708</td>\n",
       "      <td>-0.097683</td>\n",
       "      <td>-0.090958</td>\n",
       "      <td>1.000000</td>\n",
       "      <td>-0.413182</td>\n",
       "      <td>-0.303483</td>\n",
       "      <td>0.306623</td>\n",
       "      <td>-0.385004</td>\n",
       "    </tr>\n",
       "    <tr>\n",
       "      <th>ExerciseAngina</th>\n",
       "      <td>0.244779</td>\n",
       "      <td>-0.192579</td>\n",
       "      <td>-0.474377</td>\n",
       "      <td>0.175679</td>\n",
       "      <td>0.112084</td>\n",
       "      <td>0.109995</td>\n",
       "      <td>0.112645</td>\n",
       "      <td>-0.413182</td>\n",
       "      <td>1.000000</td>\n",
       "      <td>0.504540</td>\n",
       "      <td>-0.371349</td>\n",
       "      <td>0.551834</td>\n",
       "    </tr>\n",
       "    <tr>\n",
       "      <th>Oldpeak</th>\n",
       "      <td>0.334900</td>\n",
       "      <td>-0.131660</td>\n",
       "      <td>-0.343039</td>\n",
       "      <td>0.200337</td>\n",
       "      <td>0.086065</td>\n",
       "      <td>0.095044</td>\n",
       "      <td>0.127309</td>\n",
       "      <td>-0.303483</td>\n",
       "      <td>0.504540</td>\n",
       "      <td>1.000000</td>\n",
       "      <td>-0.351247</td>\n",
       "      <td>0.504321</td>\n",
       "    </tr>\n",
       "    <tr>\n",
       "      <th>ST_Slope</th>\n",
       "      <td>-0.151871</td>\n",
       "      <td>0.076222</td>\n",
       "      <td>0.296713</td>\n",
       "      <td>-0.065104</td>\n",
       "      <td>-0.086136</td>\n",
       "      <td>-0.075458</td>\n",
       "      <td>-0.050351</td>\n",
       "      <td>0.306623</td>\n",
       "      <td>-0.371349</td>\n",
       "      <td>-0.351247</td>\n",
       "      <td>1.000000</td>\n",
       "      <td>-0.510724</td>\n",
       "    </tr>\n",
       "    <tr>\n",
       "      <th>HeartDisease</th>\n",
       "      <td>0.307044</td>\n",
       "      <td>-0.292779</td>\n",
       "      <td>-0.501939</td>\n",
       "      <td>0.177632</td>\n",
       "      <td>0.114898</td>\n",
       "      <td>0.160594</td>\n",
       "      <td>0.135957</td>\n",
       "      <td>-0.385004</td>\n",
       "      <td>0.551834</td>\n",
       "      <td>0.504321</td>\n",
       "      <td>-0.510724</td>\n",
       "      <td>1.000000</td>\n",
       "    </tr>\n",
       "  </tbody>\n",
       "</table>\n",
       "</div>"
      ],
      "text/plain": [
       "                     Age       Sex  ChestPainType  RestingBP  Cholesterol  \\\n",
       "Age             1.000000 -0.044803      -0.183658   0.284774     0.083445   \n",
       "Sex            -0.044803  1.000000       0.163711  -0.054076     0.092334   \n",
       "ChestPainType  -0.183658  0.163711       1.000000  -0.072640    -0.072627   \n",
       "RestingBP       0.284774 -0.054076      -0.072640   1.000000     0.092371   \n",
       "Cholesterol     0.083445  0.092334      -0.072627   0.092371     1.000000   \n",
       "FastingBS       0.240171 -0.096075      -0.051374   0.174927     0.044568   \n",
       "RestingECG      0.240548 -0.013404      -0.101541   0.087450     0.044312   \n",
       "MaxHR          -0.363049  0.162833       0.370476  -0.131590    -0.002708   \n",
       "ExerciseAngina  0.244779 -0.192579      -0.474377   0.175679     0.112084   \n",
       "Oldpeak         0.334900 -0.131660      -0.343039   0.200337     0.086065   \n",
       "ST_Slope       -0.151871  0.076222       0.296713  -0.065104    -0.086136   \n",
       "HeartDisease    0.307044 -0.292779      -0.501939   0.177632     0.114898   \n",
       "\n",
       "                FastingBS  RestingECG     MaxHR  ExerciseAngina   Oldpeak  \\\n",
       "Age              0.240171    0.240548 -0.363049        0.244779  0.334900   \n",
       "Sex             -0.096075   -0.013404  0.162833       -0.192579 -0.131660   \n",
       "ChestPainType   -0.051374   -0.101541  0.370476       -0.474377 -0.343039   \n",
       "RestingBP        0.174927    0.087450 -0.131590        0.175679  0.200337   \n",
       "Cholesterol      0.044568    0.044312 -0.002708        0.112084  0.086065   \n",
       "FastingBS        1.000000    0.173260 -0.097683        0.109995  0.095044   \n",
       "RestingECG       0.173260    1.000000 -0.090958        0.112645  0.127309   \n",
       "MaxHR           -0.097683   -0.090958  1.000000       -0.413182 -0.303483   \n",
       "ExerciseAngina   0.109995    0.112645 -0.413182        1.000000  0.504540   \n",
       "Oldpeak          0.095044    0.127309 -0.303483        0.504540  1.000000   \n",
       "ST_Slope        -0.075458   -0.050351  0.306623       -0.371349 -0.351247   \n",
       "HeartDisease     0.160594    0.135957 -0.385004        0.551834  0.504321   \n",
       "\n",
       "                ST_Slope  HeartDisease  \n",
       "Age            -0.151871      0.307044  \n",
       "Sex             0.076222     -0.292779  \n",
       "ChestPainType   0.296713     -0.501939  \n",
       "RestingBP      -0.065104      0.177632  \n",
       "Cholesterol    -0.086136      0.114898  \n",
       "FastingBS      -0.075458      0.160594  \n",
       "RestingECG     -0.050351      0.135957  \n",
       "MaxHR           0.306623     -0.385004  \n",
       "ExerciseAngina -0.371349      0.551834  \n",
       "Oldpeak        -0.351247      0.504321  \n",
       "ST_Slope        1.000000     -0.510724  \n",
       "HeartDisease   -0.510724      1.000000  "
      ]
     },
     "execution_count": 38,
     "metadata": {},
     "output_type": "execute_result"
    }
   ],
   "source": [
    "cholesterol_corr = valued_cholesterol.corr(method ='spearman')\n",
    "cholesterol_corr"
   ]
  },
  {
   "cell_type": "code",
   "execution_count": 39,
   "id": "162521eb",
   "metadata": {
    "scrolled": false
   },
   "outputs": [
    {
     "data": {
      "image/png": "[encoded data removed]",
      "text/plain": [
       "<Figure size 720x720 with 2 Axes>"
      ]
     },
     "metadata": {
      "needs_background": "light"
     },
     "output_type": "display_data"
    }
   ],
   "source": [
    "fig, ax = plt.subplots(figsize=(10,10))  \n",
    "sns.heatmap(cholesterol_corr, annot=True, cmap=\"Blues\")\n",
    "plt.show()"
   ]
  },
  {
   "cell_type": "markdown",
   "id": "85eb36a1",
   "metadata": {},
   "source": [
    "Due to the uncertain nature of the cholesterol values that are equal to 0, and it taking up 18.74% of the values, it was decided that the missing values should be the mean of cholesterol in the database. Since the context of the problem depends on a greater knowledge of a few medical characteristics and we don't have any acess to a medical professional, a mean value could potentially create an impact in the models with a degree of uncertainty."
   ]
  },
  {
   "cell_type": "code",
   "execution_count": 40,
   "id": "2d758fca",
   "metadata": {},
   "outputs": [],
   "source": [
    "valued_cholesterol = valued_cholesterol['Cholesterol']"
   ]
  },
  {
   "cell_type": "code",
   "execution_count": 41,
   "id": "3419e422",
   "metadata": {},
   "outputs": [],
   "source": [
    "zero_cholesterol = zero_cholesterol['Cholesterol']"
   ]
  },
  {
   "cell_type": "code",
   "execution_count": 42,
   "id": "adeaef5f",
   "metadata": {},
   "outputs": [],
   "source": [
    "cholesterol_array =valued_cholesterol.reset_index().to_numpy()\n",
    "zero_cholesterol_array = zero_cholesterol.reset_index().to_numpy()\n",
    "\n",
    "imp = SimpleImputer(missing_values=0, strategy='mean')\n",
    "imp.fit(cholesterol_array)  \n",
    "\n",
    "mean_chol_transf = imp.transform(zero_cholesterol_array)"
   ]
  },
  {
   "cell_type": "code",
   "execution_count": 43,
   "id": "cc3324e9",
   "metadata": {},
   "outputs": [],
   "source": [
    "index = [i[0] for i in mean_chol_transf]\n",
    "values = [i[1] for i in mean_chol_transf]"
   ]
  },
  {
   "cell_type": "code",
   "execution_count": 44,
   "id": "44ed9d21",
   "metadata": {
    "scrolled": true
   },
   "outputs": [
    {
     "data": {
      "text/plain": [
       "count    918.000000\n",
       "mean     244.635389\n",
       "std       53.318029\n",
       "min       85.000000\n",
       "25%      214.000000\n",
       "50%      244.635389\n",
       "75%      267.000000\n",
       "max      603.000000\n",
       "Name: Cholesterol, dtype: float64"
      ]
     },
     "execution_count": 44,
     "metadata": {},
     "output_type": "execute_result"
    }
   ],
   "source": [
    "aux_chol = pd.DataFrame(values,index=index, columns=['Cholesterol'])\n",
    "treated_cat_data.update(aux_chol)\n",
    "treated_cat_data['Cholesterol'].describe()"
   ]
  },
  {
   "cell_type": "markdown",
   "id": "733cbe9f",
   "metadata": {},
   "source": [
    "#### Anayzing Oldpeak"
   ]
  },
  {
   "cell_type": "markdown",
   "id": "4d09291b",
   "metadata": {},
   "source": [
    "In this database, most values of oldpeak are positive. Oldpeak is the ST depression induced by exercise relative to rest in EGC exams and is often a sign of myocardial ischemia. There are a few types of ischemia, [a condition in which the blood flow (and thus oxygen) is restricted or reduced in a part of the body](https://www.heart.org/en/health-topics/heart-attack/about-heart-attacks/silent-ischemia-and-ischemic-heart-disease#:~:text=Ischemia%20is%20a%20condition%20in,oxygen%20to%20the%20heart%20muscle.), and the ST depression or elevation tends to differ. "
   ]
  },
  {
   "cell_type": "markdown",
   "id": "90fdcb82",
   "metadata": {},
   "source": [
    "![](data:image/webp;base64,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)"
   ]
  },
  {
   "cell_type": "code",
   "execution_count": 45,
   "id": "4f420362",
   "metadata": {
    "scrolled": false
   },
   "outputs": [
    {
     "data": {
      "text/html": [
       "<div>\n",
       "<style scoped>\n",
       "    .dataframe tbody tr th:only-of-type {\n",
       "        vertical-align: middle;\n",
       "    }\n",
       "\n",
       "    .dataframe tbody tr th {\n",
       "        vertical-align: top;\n",
       "    }\n",
       "\n",
       "    .dataframe thead th {\n",
       "        text-align: right;\n",
       "    }\n",
       "</style>\n",
       "<table border=\"1\" class=\"dataframe\">\n",
       "  <thead>\n",
       "    <tr style=\"text-align: right;\">\n",
       "      <th></th>\n",
       "      <th>Age</th>\n",
       "      <th>Sex</th>\n",
       "      <th>ChestPainType</th>\n",
       "      <th>RestingBP</th>\n",
       "      <th>Cholesterol</th>\n",
       "      <th>FastingBS</th>\n",
       "      <th>RestingECG</th>\n",
       "      <th>MaxHR</th>\n",
       "      <th>ExerciseAngina</th>\n",
       "      <th>Oldpeak</th>\n",
       "      <th>ST_Slope</th>\n",
       "      <th>HeartDisease</th>\n",
       "    </tr>\n",
       "  </thead>\n",
       "  <tbody>\n",
       "    <tr>\n",
       "      <th>321</th>\n",
       "      <td>63</td>\n",
       "      <td>0</td>\n",
       "      <td>1</td>\n",
       "      <td>100</td>\n",
       "      <td>244.635389</td>\n",
       "      <td>1</td>\n",
       "      <td>1</td>\n",
       "      <td>109</td>\n",
       "      <td>0</td>\n",
       "      <td>-0.9</td>\n",
       "      <td>1</td>\n",
       "      <td>1</td>\n",
       "    </tr>\n",
       "    <tr>\n",
       "      <th>324</th>\n",
       "      <td>46</td>\n",
       "      <td>0</td>\n",
       "      <td>1</td>\n",
       "      <td>100</td>\n",
       "      <td>244.635389</td>\n",
       "      <td>1</td>\n",
       "      <td>3</td>\n",
       "      <td>133</td>\n",
       "      <td>0</td>\n",
       "      <td>-2.6</td>\n",
       "      <td>1</td>\n",
       "      <td>1</td>\n",
       "    </tr>\n",
       "    <tr>\n",
       "      <th>325</th>\n",
       "      <td>42</td>\n",
       "      <td>0</td>\n",
       "      <td>1</td>\n",
       "      <td>105</td>\n",
       "      <td>244.635389</td>\n",
       "      <td>1</td>\n",
       "      <td>1</td>\n",
       "      <td>128</td>\n",
       "      <td>1</td>\n",
       "      <td>-1.5</td>\n",
       "      <td>3</td>\n",
       "      <td>1</td>\n",
       "    </tr>\n",
       "    <tr>\n",
       "      <th>326</th>\n",
       "      <td>45</td>\n",
       "      <td>0</td>\n",
       "      <td>2</td>\n",
       "      <td>110</td>\n",
       "      <td>244.635389</td>\n",
       "      <td>0</td>\n",
       "      <td>1</td>\n",
       "      <td>138</td>\n",
       "      <td>0</td>\n",
       "      <td>-0.1</td>\n",
       "      <td>2</td>\n",
       "      <td>0</td>\n",
       "    </tr>\n",
       "    <tr>\n",
       "      <th>331</th>\n",
       "      <td>56</td>\n",
       "      <td>0</td>\n",
       "      <td>1</td>\n",
       "      <td>115</td>\n",
       "      <td>244.635389</td>\n",
       "      <td>1</td>\n",
       "      <td>3</td>\n",
       "      <td>82</td>\n",
       "      <td>0</td>\n",
       "      <td>-1.0</td>\n",
       "      <td>2</td>\n",
       "      <td>1</td>\n",
       "    </tr>\n",
       "    <tr>\n",
       "      <th>332</th>\n",
       "      <td>38</td>\n",
       "      <td>0</td>\n",
       "      <td>2</td>\n",
       "      <td>100</td>\n",
       "      <td>244.635389</td>\n",
       "      <td>0</td>\n",
       "      <td>1</td>\n",
       "      <td>179</td>\n",
       "      <td>0</td>\n",
       "      <td>-1.1</td>\n",
       "      <td>2</td>\n",
       "      <td>0</td>\n",
       "    </tr>\n",
       "    <tr>\n",
       "      <th>334</th>\n",
       "      <td>51</td>\n",
       "      <td>0</td>\n",
       "      <td>1</td>\n",
       "      <td>130</td>\n",
       "      <td>244.635389</td>\n",
       "      <td>1</td>\n",
       "      <td>1</td>\n",
       "      <td>170</td>\n",
       "      <td>0</td>\n",
       "      <td>-0.7</td>\n",
       "      <td>2</td>\n",
       "      <td>1</td>\n",
       "    </tr>\n",
       "    <tr>\n",
       "      <th>335</th>\n",
       "      <td>62</td>\n",
       "      <td>0</td>\n",
       "      <td>4</td>\n",
       "      <td>120</td>\n",
       "      <td>244.635389</td>\n",
       "      <td>1</td>\n",
       "      <td>2</td>\n",
       "      <td>134</td>\n",
       "      <td>0</td>\n",
       "      <td>-0.8</td>\n",
       "      <td>1</td>\n",
       "      <td>1</td>\n",
       "    </tr>\n",
       "    <tr>\n",
       "      <th>352</th>\n",
       "      <td>56</td>\n",
       "      <td>0</td>\n",
       "      <td>1</td>\n",
       "      <td>120</td>\n",
       "      <td>244.635389</td>\n",
       "      <td>0</td>\n",
       "      <td>3</td>\n",
       "      <td>100</td>\n",
       "      <td>1</td>\n",
       "      <td>-1.0</td>\n",
       "      <td>3</td>\n",
       "      <td>1</td>\n",
       "    </tr>\n",
       "    <tr>\n",
       "      <th>407</th>\n",
       "      <td>62</td>\n",
       "      <td>0</td>\n",
       "      <td>1</td>\n",
       "      <td>115</td>\n",
       "      <td>244.635389</td>\n",
       "      <td>1</td>\n",
       "      <td>1</td>\n",
       "      <td>72</td>\n",
       "      <td>1</td>\n",
       "      <td>-0.5</td>\n",
       "      <td>1</td>\n",
       "      <td>1</td>\n",
       "    </tr>\n",
       "    <tr>\n",
       "      <th>413</th>\n",
       "      <td>56</td>\n",
       "      <td>0</td>\n",
       "      <td>2</td>\n",
       "      <td>125</td>\n",
       "      <td>244.635389</td>\n",
       "      <td>1</td>\n",
       "      <td>1</td>\n",
       "      <td>98</td>\n",
       "      <td>0</td>\n",
       "      <td>-2.0</td>\n",
       "      <td>1</td>\n",
       "      <td>1</td>\n",
       "    </tr>\n",
       "    <tr>\n",
       "      <th>421</th>\n",
       "      <td>66</td>\n",
       "      <td>0</td>\n",
       "      <td>2</td>\n",
       "      <td>120</td>\n",
       "      <td>244.635389</td>\n",
       "      <td>0</td>\n",
       "      <td>3</td>\n",
       "      <td>120</td>\n",
       "      <td>0</td>\n",
       "      <td>-0.5</td>\n",
       "      <td>2</td>\n",
       "      <td>0</td>\n",
       "    </tr>\n",
       "    <tr>\n",
       "      <th>512</th>\n",
       "      <td>35</td>\n",
       "      <td>0</td>\n",
       "      <td>2</td>\n",
       "      <td>123</td>\n",
       "      <td>161.000000</td>\n",
       "      <td>0</td>\n",
       "      <td>3</td>\n",
       "      <td>153</td>\n",
       "      <td>0</td>\n",
       "      <td>-0.1</td>\n",
       "      <td>2</td>\n",
       "      <td>0</td>\n",
       "    </tr>\n",
       "  </tbody>\n",
       "</table>\n",
       "</div>"
      ],
      "text/plain": [
       "     Age  Sex  ChestPainType  RestingBP  Cholesterol  FastingBS  RestingECG  \\\n",
       "321   63    0              1        100   244.635389          1           1   \n",
       "324   46    0              1        100   244.635389          1           3   \n",
       "325   42    0              1        105   244.635389          1           1   \n",
       "326   45    0              2        110   244.635389          0           1   \n",
       "331   56    0              1        115   244.635389          1           3   \n",
       "332   38    0              2        100   244.635389          0           1   \n",
       "334   51    0              1        130   244.635389          1           1   \n",
       "335   62    0              4        120   244.635389          1           2   \n",
       "352   56    0              1        120   244.635389          0           3   \n",
       "407   62    0              1        115   244.635389          1           1   \n",
       "413   56    0              2        125   244.635389          1           1   \n",
       "421   66    0              2        120   244.635389          0           3   \n",
       "512   35    0              2        123   161.000000          0           3   \n",
       "\n",
       "     MaxHR  ExerciseAngina  Oldpeak  ST_Slope  HeartDisease  \n",
       "321    109               0     -0.9         1             1  \n",
       "324    133               0     -2.6         1             1  \n",
       "325    128               1     -1.5         3             1  \n",
       "326    138               0     -0.1         2             0  \n",
       "331     82               0     -1.0         2             1  \n",
       "332    179               0     -1.1         2             0  \n",
       "334    170               0     -0.7         2             1  \n",
       "335    134               0     -0.8         1             1  \n",
       "352    100               1     -1.0         3             1  \n",
       "407     72               1     -0.5         1             1  \n",
       "413     98               0     -2.0         1             1  \n",
       "421    120               0     -0.5         2             0  \n",
       "512    153               0     -0.1         2             0  "
      ]
     },
     "execution_count": 45,
     "metadata": {},
     "output_type": "execute_result"
    }
   ],
   "source": [
    "negative_oldpeak = treated_cat_data[treated_cat_data[\"Oldpeak\"] < 0]\n",
    "negative_oldpeak"
   ]
  },
  {
   "cell_type": "code",
   "execution_count": 46,
   "id": "5cf50c25",
   "metadata": {},
   "outputs": [
    {
     "data": {
      "text/plain": [
       "(13, 12)"
      ]
     },
     "execution_count": 46,
     "metadata": {},
     "output_type": "execute_result"
    }
   ],
   "source": [
    "negative_oldpeak.shape"
   ]
  },
  {
   "cell_type": "code",
   "execution_count": 47,
   "id": "8ccd68ff",
   "metadata": {},
   "outputs": [
    {
     "data": {
      "text/plain": [
       "1    0.692308\n",
       "0    0.307692\n",
       "Name: HeartDisease, dtype: float64"
      ]
     },
     "execution_count": 47,
     "metadata": {},
     "output_type": "execute_result"
    }
   ],
   "source": [
    "negative_oldpeak[\"HeartDisease\"].value_counts(normalize=True)"
   ]
  },
  {
   "cell_type": "code",
   "execution_count": 48,
   "id": "09544862",
   "metadata": {},
   "outputs": [
    {
     "data": {
      "text/plain": [
       "1    7\n",
       "3    5\n",
       "2    1\n",
       "Name: RestingECG, dtype: int64"
      ]
     },
     "execution_count": 48,
     "metadata": {},
     "output_type": "execute_result"
    }
   ],
   "source": [
    "negative_oldpeak[\"RestingECG\"].value_counts()"
   ]
  },
  {
   "cell_type": "code",
   "execution_count": 49,
   "id": "ecf69aa1",
   "metadata": {},
   "outputs": [
    {
     "data": {
      "text/plain": [
       "1    7\n",
       "2    5\n",
       "4    1\n",
       "Name: ChestPainType, dtype: int64"
      ]
     },
     "execution_count": 49,
     "metadata": {},
     "output_type": "execute_result"
    }
   ],
   "source": [
    "negative_oldpeak[\"ChestPainType\"].value_counts()"
   ]
  },
  {
   "cell_type": "code",
   "execution_count": 50,
   "id": "3a648e7b",
   "metadata": {},
   "outputs": [
    {
     "data": {
      "text/html": [
       "<div>\n",
       "<style scoped>\n",
       "    .dataframe tbody tr th:only-of-type {\n",
       "        vertical-align: middle;\n",
       "    }\n",
       "\n",
       "    .dataframe tbody tr th {\n",
       "        vertical-align: top;\n",
       "    }\n",
       "\n",
       "    .dataframe thead th {\n",
       "        text-align: right;\n",
       "    }\n",
       "</style>\n",
       "<table border=\"1\" class=\"dataframe\">\n",
       "  <thead>\n",
       "    <tr style=\"text-align: right;\">\n",
       "      <th></th>\n",
       "      <th>Age</th>\n",
       "      <th>Sex</th>\n",
       "      <th>ChestPainType</th>\n",
       "      <th>RestingBP</th>\n",
       "      <th>Cholesterol</th>\n",
       "      <th>FastingBS</th>\n",
       "      <th>RestingECG</th>\n",
       "      <th>MaxHR</th>\n",
       "      <th>ExerciseAngina</th>\n",
       "      <th>Oldpeak</th>\n",
       "      <th>ST_Slope</th>\n",
       "      <th>HeartDisease</th>\n",
       "    </tr>\n",
       "  </thead>\n",
       "  <tbody>\n",
       "    <tr>\n",
       "      <th>count</th>\n",
       "      <td>13.000000</td>\n",
       "      <td>13.0</td>\n",
       "      <td>13.000000</td>\n",
       "      <td>13.000000</td>\n",
       "      <td>13.000000</td>\n",
       "      <td>13.000000</td>\n",
       "      <td>13.000000</td>\n",
       "      <td>13.000000</td>\n",
       "      <td>13.000000</td>\n",
       "      <td>13.000000</td>\n",
       "      <td>13.000000</td>\n",
       "      <td>13.000000</td>\n",
       "    </tr>\n",
       "    <tr>\n",
       "      <th>mean</th>\n",
       "      <td>52.153846</td>\n",
       "      <td>0.0</td>\n",
       "      <td>1.615385</td>\n",
       "      <td>114.076923</td>\n",
       "      <td>238.201897</td>\n",
       "      <td>0.615385</td>\n",
       "      <td>1.846154</td>\n",
       "      <td>124.307692</td>\n",
       "      <td>0.230769</td>\n",
       "      <td>-0.984615</td>\n",
       "      <td>1.769231</td>\n",
       "      <td>0.692308</td>\n",
       "    </tr>\n",
       "    <tr>\n",
       "      <th>std</th>\n",
       "      <td>10.147628</td>\n",
       "      <td>0.0</td>\n",
       "      <td>0.869718</td>\n",
       "      <td>10.218134</td>\n",
       "      <td>23.196283</td>\n",
       "      <td>0.506370</td>\n",
       "      <td>0.987096</td>\n",
       "      <td>32.060840</td>\n",
       "      <td>0.438529</td>\n",
       "      <td>0.711625</td>\n",
       "      <td>0.725011</td>\n",
       "      <td>0.480384</td>\n",
       "    </tr>\n",
       "    <tr>\n",
       "      <th>min</th>\n",
       "      <td>35.000000</td>\n",
       "      <td>0.0</td>\n",
       "      <td>1.000000</td>\n",
       "      <td>100.000000</td>\n",
       "      <td>161.000000</td>\n",
       "      <td>0.000000</td>\n",
       "      <td>1.000000</td>\n",
       "      <td>72.000000</td>\n",
       "      <td>0.000000</td>\n",
       "      <td>-2.600000</td>\n",
       "      <td>1.000000</td>\n",
       "      <td>0.000000</td>\n",
       "    </tr>\n",
       "    <tr>\n",
       "      <th>25%</th>\n",
       "      <td>45.000000</td>\n",
       "      <td>0.0</td>\n",
       "      <td>1.000000</td>\n",
       "      <td>105.000000</td>\n",
       "      <td>244.635389</td>\n",
       "      <td>0.000000</td>\n",
       "      <td>1.000000</td>\n",
       "      <td>100.000000</td>\n",
       "      <td>0.000000</td>\n",
       "      <td>-1.100000</td>\n",
       "      <td>1.000000</td>\n",
       "      <td>0.000000</td>\n",
       "    </tr>\n",
       "    <tr>\n",
       "      <th>50%</th>\n",
       "      <td>56.000000</td>\n",
       "      <td>0.0</td>\n",
       "      <td>1.000000</td>\n",
       "      <td>115.000000</td>\n",
       "      <td>244.635389</td>\n",
       "      <td>1.000000</td>\n",
       "      <td>1.000000</td>\n",
       "      <td>128.000000</td>\n",
       "      <td>0.000000</td>\n",
       "      <td>-0.900000</td>\n",
       "      <td>2.000000</td>\n",
       "      <td>1.000000</td>\n",
       "    </tr>\n",
       "    <tr>\n",
       "      <th>75%</th>\n",
       "      <td>62.000000</td>\n",
       "      <td>0.0</td>\n",
       "      <td>2.000000</td>\n",
       "      <td>120.000000</td>\n",
       "      <td>244.635389</td>\n",
       "      <td>1.000000</td>\n",
       "      <td>3.000000</td>\n",
       "      <td>138.000000</td>\n",
       "      <td>0.000000</td>\n",
       "      <td>-0.500000</td>\n",
       "      <td>2.000000</td>\n",
       "      <td>1.000000</td>\n",
       "    </tr>\n",
       "    <tr>\n",
       "      <th>max</th>\n",
       "      <td>66.000000</td>\n",
       "      <td>0.0</td>\n",
       "      <td>4.000000</td>\n",
       "      <td>130.000000</td>\n",
       "      <td>244.635389</td>\n",
       "      <td>1.000000</td>\n",
       "      <td>3.000000</td>\n",
       "      <td>179.000000</td>\n",
       "      <td>1.000000</td>\n",
       "      <td>-0.100000</td>\n",
       "      <td>3.000000</td>\n",
       "      <td>1.000000</td>\n",
       "    </tr>\n",
       "  </tbody>\n",
       "</table>\n",
       "</div>"
      ],
      "text/plain": [
       "             Age   Sex  ChestPainType   RestingBP  Cholesterol  FastingBS  \\\n",
       "count  13.000000  13.0      13.000000   13.000000    13.000000  13.000000   \n",
       "mean   52.153846   0.0       1.615385  114.076923   238.201897   0.615385   \n",
       "std    10.147628   0.0       0.869718   10.218134    23.196283   0.506370   \n",
       "min    35.000000   0.0       1.000000  100.000000   161.000000   0.000000   \n",
       "25%    45.000000   0.0       1.000000  105.000000   244.635389   0.000000   \n",
       "50%    56.000000   0.0       1.000000  115.000000   244.635389   1.000000   \n",
       "75%    62.000000   0.0       2.000000  120.000000   244.635389   1.000000   \n",
       "max    66.000000   0.0       4.000000  130.000000   244.635389   1.000000   \n",
       "\n",
       "       RestingECG       MaxHR  ExerciseAngina    Oldpeak   ST_Slope  \\\n",
       "count   13.000000   13.000000       13.000000  13.000000  13.000000   \n",
       "mean     1.846154  124.307692        0.230769  -0.984615   1.769231   \n",
       "std      0.987096   32.060840        0.438529   0.711625   0.725011   \n",
       "min      1.000000   72.000000        0.000000  -2.600000   1.000000   \n",
       "25%      1.000000  100.000000        0.000000  -1.100000   1.000000   \n",
       "50%      1.000000  128.000000        0.000000  -0.900000   2.000000   \n",
       "75%      3.000000  138.000000        0.000000  -0.500000   2.000000   \n",
       "max      3.000000  179.000000        1.000000  -0.100000   3.000000   \n",
       "\n",
       "       HeartDisease  \n",
       "count     13.000000  \n",
       "mean       0.692308  \n",
       "std        0.480384  \n",
       "min        0.000000  \n",
       "25%        0.000000  \n",
       "50%        1.000000  \n",
       "75%        1.000000  \n",
       "max        1.000000  "
      ]
     },
     "execution_count": 50,
     "metadata": {},
     "output_type": "execute_result"
    }
   ],
   "source": [
    "negative_oldpeak.describe()"
   ]
  },
  {
   "cell_type": "code",
   "execution_count": 51,
   "id": "2080857c",
   "metadata": {
    "scrolled": false
   },
   "outputs": [
    {
     "data": {
      "text/html": [
       "<div>\n",
       "<style scoped>\n",
       "    .dataframe tbody tr th:only-of-type {\n",
       "        vertical-align: middle;\n",
       "    }\n",
       "\n",
       "    .dataframe tbody tr th {\n",
       "        vertical-align: top;\n",
       "    }\n",
       "\n",
       "    .dataframe thead th {\n",
       "        text-align: right;\n",
       "    }\n",
       "</style>\n",
       "<table border=\"1\" class=\"dataframe\">\n",
       "  <thead>\n",
       "    <tr style=\"text-align: right;\">\n",
       "      <th></th>\n",
       "      <th>Age</th>\n",
       "      <th>Sex</th>\n",
       "      <th>ChestPainType</th>\n",
       "      <th>RestingBP</th>\n",
       "      <th>Cholesterol</th>\n",
       "      <th>FastingBS</th>\n",
       "      <th>RestingECG</th>\n",
       "      <th>MaxHR</th>\n",
       "      <th>ExerciseAngina</th>\n",
       "      <th>Oldpeak</th>\n",
       "      <th>ST_Slope</th>\n",
       "      <th>HeartDisease</th>\n",
       "    </tr>\n",
       "  </thead>\n",
       "  <tbody>\n",
       "    <tr>\n",
       "      <th>Age</th>\n",
       "      <td>1.000000</td>\n",
       "      <td>NaN</td>\n",
       "      <td>0.082801</td>\n",
       "      <td>0.241784</td>\n",
       "      <td>0.507911</td>\n",
       "      <td>0.336827</td>\n",
       "      <td>0.052477</td>\n",
       "      <td>-0.643072</td>\n",
       "      <td>0.066263</td>\n",
       "      <td>0.059653</td>\n",
       "      <td>-0.391212</td>\n",
       "      <td>0.420796</td>\n",
       "    </tr>\n",
       "    <tr>\n",
       "      <th>Sex</th>\n",
       "      <td>NaN</td>\n",
       "      <td>NaN</td>\n",
       "      <td>NaN</td>\n",
       "      <td>NaN</td>\n",
       "      <td>NaN</td>\n",
       "      <td>NaN</td>\n",
       "      <td>NaN</td>\n",
       "      <td>NaN</td>\n",
       "      <td>NaN</td>\n",
       "      <td>NaN</td>\n",
       "      <td>NaN</td>\n",
       "      <td>NaN</td>\n",
       "    </tr>\n",
       "    <tr>\n",
       "      <th>ChestPainType</th>\n",
       "      <td>0.082801</td>\n",
       "      <td>NaN</td>\n",
       "      <td>1.000000</td>\n",
       "      <td>0.238034</td>\n",
       "      <td>-0.132874</td>\n",
       "      <td>-0.174667</td>\n",
       "      <td>0.022401</td>\n",
       "      <td>0.285525</td>\n",
       "      <td>-0.403376</td>\n",
       "      <td>0.225789</td>\n",
       "      <td>-0.284649</td>\n",
       "      <td>-0.306858</td>\n",
       "    </tr>\n",
       "    <tr>\n",
       "      <th>RestingBP</th>\n",
       "      <td>0.241784</td>\n",
       "      <td>NaN</td>\n",
       "      <td>0.238034</td>\n",
       "      <td>1.000000</td>\n",
       "      <td>-0.262382</td>\n",
       "      <td>-0.042123</td>\n",
       "      <td>0.174774</td>\n",
       "      <td>-0.068505</td>\n",
       "      <td>-0.041486</td>\n",
       "      <td>0.342487</td>\n",
       "      <td>0.081337</td>\n",
       "      <td>0.056154</td>\n",
       "    </tr>\n",
       "    <tr>\n",
       "      <th>Cholesterol</th>\n",
       "      <td>0.507911</td>\n",
       "      <td>NaN</td>\n",
       "      <td>-0.132874</td>\n",
       "      <td>-0.262382</td>\n",
       "      <td>1.000000</td>\n",
       "      <td>0.365148</td>\n",
       "      <td>-0.351220</td>\n",
       "      <td>-0.268894</td>\n",
       "      <td>0.158114</td>\n",
       "      <td>-0.373503</td>\n",
       "      <td>-0.095637</td>\n",
       "      <td>0.433013</td>\n",
       "    </tr>\n",
       "    <tr>\n",
       "      <th>FastingBS</th>\n",
       "      <td>0.336827</td>\n",
       "      <td>NaN</td>\n",
       "      <td>-0.174667</td>\n",
       "      <td>-0.042123</td>\n",
       "      <td>0.365148</td>\n",
       "      <td>1.000000</td>\n",
       "      <td>-0.294969</td>\n",
       "      <td>-0.351417</td>\n",
       "      <td>0.057735</td>\n",
       "      <td>-0.490982</td>\n",
       "      <td>-0.488901</td>\n",
       "      <td>0.843274</td>\n",
       "    </tr>\n",
       "    <tr>\n",
       "      <th>RestingECG</th>\n",
       "      <td>0.052477</td>\n",
       "      <td>NaN</td>\n",
       "      <td>0.022401</td>\n",
       "      <td>0.174774</td>\n",
       "      <td>-0.351220</td>\n",
       "      <td>-0.294969</td>\n",
       "      <td>1.000000</td>\n",
       "      <td>-0.151105</td>\n",
       "      <td>-0.103661</td>\n",
       "      <td>-0.043803</td>\n",
       "      <td>0.179144</td>\n",
       "      <td>-0.108148</td>\n",
       "    </tr>\n",
       "    <tr>\n",
       "      <th>MaxHR</th>\n",
       "      <td>-0.643072</td>\n",
       "      <td>NaN</td>\n",
       "      <td>0.285525</td>\n",
       "      <td>-0.068505</td>\n",
       "      <td>-0.268894</td>\n",
       "      <td>-0.351417</td>\n",
       "      <td>-0.151105</td>\n",
       "      <td>1.000000</td>\n",
       "      <td>-0.432226</td>\n",
       "      <td>0.106064</td>\n",
       "      <td>0.196904</td>\n",
       "      <td>-0.501948</td>\n",
       "    </tr>\n",
       "    <tr>\n",
       "      <th>ExerciseAngina</th>\n",
       "      <td>0.066263</td>\n",
       "      <td>NaN</td>\n",
       "      <td>-0.403376</td>\n",
       "      <td>-0.041486</td>\n",
       "      <td>0.158114</td>\n",
       "      <td>0.057735</td>\n",
       "      <td>-0.103661</td>\n",
       "      <td>-0.432226</td>\n",
       "      <td>1.000000</td>\n",
       "      <td>-0.012325</td>\n",
       "      <td>0.443563</td>\n",
       "      <td>0.365148</td>\n",
       "    </tr>\n",
       "    <tr>\n",
       "      <th>Oldpeak</th>\n",
       "      <td>0.059653</td>\n",
       "      <td>NaN</td>\n",
       "      <td>0.225789</td>\n",
       "      <td>0.342487</td>\n",
       "      <td>-0.373503</td>\n",
       "      <td>-0.490982</td>\n",
       "      <td>-0.043803</td>\n",
       "      <td>0.106064</td>\n",
       "      <td>-0.012325</td>\n",
       "      <td>1.000000</td>\n",
       "      <td>0.217429</td>\n",
       "      <td>-0.521291</td>\n",
       "    </tr>\n",
       "    <tr>\n",
       "      <th>ST_Slope</th>\n",
       "      <td>-0.391212</td>\n",
       "      <td>NaN</td>\n",
       "      <td>-0.284649</td>\n",
       "      <td>0.081337</td>\n",
       "      <td>-0.095637</td>\n",
       "      <td>-0.488901</td>\n",
       "      <td>0.179144</td>\n",
       "      <td>0.196904</td>\n",
       "      <td>0.443563</td>\n",
       "      <td>0.217429</td>\n",
       "      <td>1.000000</td>\n",
       "      <td>-0.220863</td>\n",
       "    </tr>\n",
       "    <tr>\n",
       "      <th>HeartDisease</th>\n",
       "      <td>0.420796</td>\n",
       "      <td>NaN</td>\n",
       "      <td>-0.306858</td>\n",
       "      <td>0.056154</td>\n",
       "      <td>0.433013</td>\n",
       "      <td>0.843274</td>\n",
       "      <td>-0.108148</td>\n",
       "      <td>-0.501948</td>\n",
       "      <td>0.365148</td>\n",
       "      <td>-0.521291</td>\n",
       "      <td>-0.220863</td>\n",
       "      <td>1.000000</td>\n",
       "    </tr>\n",
       "  </tbody>\n",
       "</table>\n",
       "</div>"
      ],
      "text/plain": [
       "                     Age  Sex  ChestPainType  RestingBP  Cholesterol  \\\n",
       "Age             1.000000  NaN       0.082801   0.241784     0.507911   \n",
       "Sex                  NaN  NaN            NaN        NaN          NaN   \n",
       "ChestPainType   0.082801  NaN       1.000000   0.238034    -0.132874   \n",
       "RestingBP       0.241784  NaN       0.238034   1.000000    -0.262382   \n",
       "Cholesterol     0.507911  NaN      -0.132874  -0.262382     1.000000   \n",
       "FastingBS       0.336827  NaN      -0.174667  -0.042123     0.365148   \n",
       "RestingECG      0.052477  NaN       0.022401   0.174774    -0.351220   \n",
       "MaxHR          -0.643072  NaN       0.285525  -0.068505    -0.268894   \n",
       "ExerciseAngina  0.066263  NaN      -0.403376  -0.041486     0.158114   \n",
       "Oldpeak         0.059653  NaN       0.225789   0.342487    -0.373503   \n",
       "ST_Slope       -0.391212  NaN      -0.284649   0.081337    -0.095637   \n",
       "HeartDisease    0.420796  NaN      -0.306858   0.056154     0.433013   \n",
       "\n",
       "                FastingBS  RestingECG     MaxHR  ExerciseAngina   Oldpeak  \\\n",
       "Age              0.336827    0.052477 -0.643072        0.066263  0.059653   \n",
       "Sex                   NaN         NaN       NaN             NaN       NaN   \n",
       "ChestPainType   -0.174667    0.022401  0.285525       -0.403376  0.225789   \n",
       "RestingBP       -0.042123    0.174774 -0.068505       -0.041486  0.342487   \n",
       "Cholesterol      0.365148   -0.351220 -0.268894        0.158114 -0.373503   \n",
       "FastingBS        1.000000   -0.294969 -0.351417        0.057735 -0.490982   \n",
       "RestingECG      -0.294969    1.000000 -0.151105       -0.103661 -0.043803   \n",
       "MaxHR           -0.351417   -0.151105  1.000000       -0.432226  0.106064   \n",
       "ExerciseAngina   0.057735   -0.103661 -0.432226        1.000000 -0.012325   \n",
       "Oldpeak         -0.490982   -0.043803  0.106064       -0.012325  1.000000   \n",
       "ST_Slope        -0.488901    0.179144  0.196904        0.443563  0.217429   \n",
       "HeartDisease     0.843274   -0.108148 -0.501948        0.365148 -0.521291   \n",
       "\n",
       "                ST_Slope  HeartDisease  \n",
       "Age            -0.391212      0.420796  \n",
       "Sex                  NaN           NaN  \n",
       "ChestPainType  -0.284649     -0.306858  \n",
       "RestingBP       0.081337      0.056154  \n",
       "Cholesterol    -0.095637      0.433013  \n",
       "FastingBS      -0.488901      0.843274  \n",
       "RestingECG      0.179144     -0.108148  \n",
       "MaxHR           0.196904     -0.501948  \n",
       "ExerciseAngina  0.443563      0.365148  \n",
       "Oldpeak         0.217429     -0.521291  \n",
       "ST_Slope        1.000000     -0.220863  \n",
       "HeartDisease   -0.220863      1.000000  "
      ]
     },
     "execution_count": 51,
     "metadata": {},
     "output_type": "execute_result"
    }
   ],
   "source": [
    "negative_oldpeak.corr()"
   ]
  },
  {
   "cell_type": "code",
   "execution_count": 52,
   "id": "be35f532",
   "metadata": {},
   "outputs": [
    {
     "data": {
      "text/plain": [
       "0.014161220043572984"
      ]
     },
     "execution_count": 52,
     "metadata": {},
     "output_type": "execute_result"
    }
   ],
   "source": [
    "13/918"
   ]
  },
  {
   "cell_type": "markdown",
   "id": "c82005da",
   "metadata": {},
   "source": [
    "It is uncertain why some of the values of Oldpeak were negative, especially in a such low percentage, with approximately 1.4% cases. It might be due to the fact that the ST could have a depression or an elevation compared to the base line, and those negative or positive values could be representing that. The deffinition of the feature is ST depression, therefore it could be that the negative values actually mean an elevation. I wasn't able to find data in terms of the frequency of one happening compared to the other. Another possibility might be that some of the values were inputed as absolute, without a sign representing direction (elevation vs depression). Therefore, I decided to maintain the values as they could have potential meaning and at worst it is noise that represents 1.41% of the values. The high amount of 0 could be the representation of a high amount of ST value."
   ]
  },
  {
   "cell_type": "markdown",
   "id": "b6b13efd",
   "metadata": {},
   "source": [
    "#### Concluding remarks"
   ]
  },
  {
   "cell_type": "code",
   "execution_count": 53,
   "id": "56057ece",
   "metadata": {},
   "outputs": [
    {
     "data": {
      "text/html": [
       "<div>\n",
       "<style scoped>\n",
       "    .dataframe tbody tr th:only-of-type {\n",
       "        vertical-align: middle;\n",
       "    }\n",
       "\n",
       "    .dataframe tbody tr th {\n",
       "        vertical-align: top;\n",
       "    }\n",
       "\n",
       "    .dataframe thead th {\n",
       "        text-align: right;\n",
       "    }\n",
       "</style>\n",
       "<table border=\"1\" class=\"dataframe\">\n",
       "  <thead>\n",
       "    <tr style=\"text-align: right;\">\n",
       "      <th></th>\n",
       "      <th>Age</th>\n",
       "      <th>Sex</th>\n",
       "      <th>ChestPainType</th>\n",
       "      <th>RestingBP</th>\n",
       "      <th>Cholesterol</th>\n",
       "      <th>FastingBS</th>\n",
       "      <th>RestingECG</th>\n",
       "      <th>MaxHR</th>\n",
       "      <th>ExerciseAngina</th>\n",
       "      <th>Oldpeak</th>\n",
       "      <th>ST_Slope</th>\n",
       "      <th>HeartDisease</th>\n",
       "    </tr>\n",
       "  </thead>\n",
       "  <tbody>\n",
       "    <tr>\n",
       "      <th>count</th>\n",
       "      <td>918.000000</td>\n",
       "      <td>918.000000</td>\n",
       "      <td>918.000000</td>\n",
       "      <td>918.000000</td>\n",
       "      <td>918.000000</td>\n",
       "      <td>918.000000</td>\n",
       "      <td>918.000000</td>\n",
       "      <td>918.000000</td>\n",
       "      <td>918.000000</td>\n",
       "      <td>918.000000</td>\n",
       "      <td>918.000000</td>\n",
       "      <td>918.000000</td>\n",
       "    </tr>\n",
       "    <tr>\n",
       "      <th>mean</th>\n",
       "      <td>53.510893</td>\n",
       "      <td>0.210240</td>\n",
       "      <td>1.748366</td>\n",
       "      <td>132.396514</td>\n",
       "      <td>244.635389</td>\n",
       "      <td>0.233115</td>\n",
       "      <td>1.592593</td>\n",
       "      <td>136.809368</td>\n",
       "      <td>0.404139</td>\n",
       "      <td>0.887364</td>\n",
       "      <td>1.567538</td>\n",
       "      <td>0.553377</td>\n",
       "    </tr>\n",
       "    <tr>\n",
       "      <th>std</th>\n",
       "      <td>9.432617</td>\n",
       "      <td>0.407701</td>\n",
       "      <td>0.931031</td>\n",
       "      <td>18.514154</td>\n",
       "      <td>53.318029</td>\n",
       "      <td>0.423046</td>\n",
       "      <td>0.793670</td>\n",
       "      <td>25.460334</td>\n",
       "      <td>0.490992</td>\n",
       "      <td>1.066570</td>\n",
       "      <td>0.618959</td>\n",
       "      <td>0.497414</td>\n",
       "    </tr>\n",
       "    <tr>\n",
       "      <th>min</th>\n",
       "      <td>28.000000</td>\n",
       "      <td>0.000000</td>\n",
       "      <td>1.000000</td>\n",
       "      <td>0.000000</td>\n",
       "      <td>85.000000</td>\n",
       "      <td>0.000000</td>\n",
       "      <td>1.000000</td>\n",
       "      <td>60.000000</td>\n",
       "      <td>0.000000</td>\n",
       "      <td>-2.600000</td>\n",
       "      <td>1.000000</td>\n",
       "      <td>0.000000</td>\n",
       "    </tr>\n",
       "    <tr>\n",
       "      <th>25%</th>\n",
       "      <td>47.000000</td>\n",
       "      <td>0.000000</td>\n",
       "      <td>1.000000</td>\n",
       "      <td>120.000000</td>\n",
       "      <td>214.000000</td>\n",
       "      <td>0.000000</td>\n",
       "      <td>1.000000</td>\n",
       "      <td>120.000000</td>\n",
       "      <td>0.000000</td>\n",
       "      <td>0.000000</td>\n",
       "      <td>1.000000</td>\n",
       "      <td>0.000000</td>\n",
       "    </tr>\n",
       "    <tr>\n",
       "      <th>50%</th>\n",
       "      <td>54.000000</td>\n",
       "      <td>0.000000</td>\n",
       "      <td>1.000000</td>\n",
       "      <td>130.000000</td>\n",
       "      <td>244.635389</td>\n",
       "      <td>0.000000</td>\n",
       "      <td>1.000000</td>\n",
       "      <td>138.000000</td>\n",
       "      <td>0.000000</td>\n",
       "      <td>0.600000</td>\n",
       "      <td>1.000000</td>\n",
       "      <td>1.000000</td>\n",
       "    </tr>\n",
       "    <tr>\n",
       "      <th>75%</th>\n",
       "      <td>60.000000</td>\n",
       "      <td>0.000000</td>\n",
       "      <td>2.000000</td>\n",
       "      <td>140.000000</td>\n",
       "      <td>267.000000</td>\n",
       "      <td>0.000000</td>\n",
       "      <td>2.000000</td>\n",
       "      <td>156.000000</td>\n",
       "      <td>1.000000</td>\n",
       "      <td>1.500000</td>\n",
       "      <td>2.000000</td>\n",
       "      <td>1.000000</td>\n",
       "    </tr>\n",
       "    <tr>\n",
       "      <th>max</th>\n",
       "      <td>77.000000</td>\n",
       "      <td>1.000000</td>\n",
       "      <td>4.000000</td>\n",
       "      <td>200.000000</td>\n",
       "      <td>603.000000</td>\n",
       "      <td>1.000000</td>\n",
       "      <td>3.000000</td>\n",
       "      <td>202.000000</td>\n",
       "      <td>1.000000</td>\n",
       "      <td>6.200000</td>\n",
       "      <td>3.000000</td>\n",
       "      <td>1.000000</td>\n",
       "    </tr>\n",
       "  </tbody>\n",
       "</table>\n",
       "</div>"
      ],
      "text/plain": [
       "              Age         Sex  ChestPainType   RestingBP  Cholesterol  \\\n",
       "count  918.000000  918.000000     918.000000  918.000000   918.000000   \n",
       "mean    53.510893    0.210240       1.748366  132.396514   244.635389   \n",
       "std      9.432617    0.407701       0.931031   18.514154    53.318029   \n",
       "min     28.000000    0.000000       1.000000    0.000000    85.000000   \n",
       "25%     47.000000    0.000000       1.000000  120.000000   214.000000   \n",
       "50%     54.000000    0.000000       1.000000  130.000000   244.635389   \n",
       "75%     60.000000    0.000000       2.000000  140.000000   267.000000   \n",
       "max     77.000000    1.000000       4.000000  200.000000   603.000000   \n",
       "\n",
       "        FastingBS  RestingECG       MaxHR  ExerciseAngina     Oldpeak  \\\n",
       "count  918.000000  918.000000  918.000000      918.000000  918.000000   \n",
       "mean     0.233115    1.592593  136.809368        0.404139    0.887364   \n",
       "std      0.423046    0.793670   25.460334        0.490992    1.066570   \n",
       "min      0.000000    1.000000   60.000000        0.000000   -2.600000   \n",
       "25%      0.000000    1.000000  120.000000        0.000000    0.000000   \n",
       "50%      0.000000    1.000000  138.000000        0.000000    0.600000   \n",
       "75%      0.000000    2.000000  156.000000        1.000000    1.500000   \n",
       "max      1.000000    3.000000  202.000000        1.000000    6.200000   \n",
       "\n",
       "         ST_Slope  HeartDisease  \n",
       "count  918.000000    918.000000  \n",
       "mean     1.567538      0.553377  \n",
       "std      0.618959      0.497414  \n",
       "min      1.000000      0.000000  \n",
       "25%      1.000000      0.000000  \n",
       "50%      1.000000      1.000000  \n",
       "75%      2.000000      1.000000  \n",
       "max      3.000000      1.000000  "
      ]
     },
     "execution_count": 53,
     "metadata": {},
     "output_type": "execute_result"
    }
   ],
   "source": [
    "treated_cat_data.describe()"
   ]
  },
  {
   "cell_type": "code",
   "execution_count": 54,
   "id": "26db0169",
   "metadata": {
    "scrolled": true
   },
   "outputs": [
    {
     "data": {
      "text/html": [
       "<div>\n",
       "<style scoped>\n",
       "    .dataframe tbody tr th:only-of-type {\n",
       "        vertical-align: middle;\n",
       "    }\n",
       "\n",
       "    .dataframe tbody tr th {\n",
       "        vertical-align: top;\n",
       "    }\n",
       "\n",
       "    .dataframe thead th {\n",
       "        text-align: right;\n",
       "    }\n",
       "</style>\n",
       "<table border=\"1\" class=\"dataframe\">\n",
       "  <thead>\n",
       "    <tr style=\"text-align: right;\">\n",
       "      <th></th>\n",
       "      <th>Age</th>\n",
       "      <th>Sex</th>\n",
       "      <th>ChestPainType</th>\n",
       "      <th>RestingBP</th>\n",
       "      <th>Cholesterol</th>\n",
       "      <th>FastingBS</th>\n",
       "      <th>RestingECG</th>\n",
       "      <th>MaxHR</th>\n",
       "      <th>ExerciseAngina</th>\n",
       "      <th>Oldpeak</th>\n",
       "      <th>ST_Slope</th>\n",
       "      <th>HeartDisease</th>\n",
       "    </tr>\n",
       "  </thead>\n",
       "  <tbody>\n",
       "    <tr>\n",
       "      <th>Age</th>\n",
       "      <td>1.000000</td>\n",
       "      <td>-0.055750</td>\n",
       "      <td>-0.165896</td>\n",
       "      <td>0.254399</td>\n",
       "      <td>0.053373</td>\n",
       "      <td>0.198039</td>\n",
       "      <td>0.210498</td>\n",
       "      <td>-0.382045</td>\n",
       "      <td>0.215793</td>\n",
       "      <td>0.258612</td>\n",
       "      <td>-0.093424</td>\n",
       "      <td>0.282039</td>\n",
       "    </tr>\n",
       "    <tr>\n",
       "      <th>Sex</th>\n",
       "      <td>-0.055750</td>\n",
       "      <td>1.000000</td>\n",
       "      <td>0.168254</td>\n",
       "      <td>-0.005133</td>\n",
       "      <td>0.101706</td>\n",
       "      <td>-0.120076</td>\n",
       "      <td>-0.038320</td>\n",
       "      <td>0.189186</td>\n",
       "      <td>-0.190664</td>\n",
       "      <td>-0.105734</td>\n",
       "      <td>0.066831</td>\n",
       "      <td>-0.305445</td>\n",
       "    </tr>\n",
       "    <tr>\n",
       "      <th>ChestPainType</th>\n",
       "      <td>-0.165896</td>\n",
       "      <td>0.168254</td>\n",
       "      <td>1.000000</td>\n",
       "      <td>-0.022168</td>\n",
       "      <td>-0.073889</td>\n",
       "      <td>-0.116703</td>\n",
       "      <td>-0.065099</td>\n",
       "      <td>0.343654</td>\n",
       "      <td>-0.416625</td>\n",
       "      <td>-0.245027</td>\n",
       "      <td>0.202675</td>\n",
       "      <td>-0.471354</td>\n",
       "    </tr>\n",
       "    <tr>\n",
       "      <th>RestingBP</th>\n",
       "      <td>0.254399</td>\n",
       "      <td>-0.005133</td>\n",
       "      <td>-0.022168</td>\n",
       "      <td>1.000000</td>\n",
       "      <td>0.080723</td>\n",
       "      <td>0.070193</td>\n",
       "      <td>0.117206</td>\n",
       "      <td>-0.112135</td>\n",
       "      <td>0.155101</td>\n",
       "      <td>0.164803</td>\n",
       "      <td>-0.083418</td>\n",
       "      <td>0.107589</td>\n",
       "    </tr>\n",
       "    <tr>\n",
       "      <th>Cholesterol</th>\n",
       "      <td>0.053373</td>\n",
       "      <td>0.101706</td>\n",
       "      <td>-0.073889</td>\n",
       "      <td>0.080723</td>\n",
       "      <td>1.000000</td>\n",
       "      <td>0.043008</td>\n",
       "      <td>0.013950</td>\n",
       "      <td>-0.017239</td>\n",
       "      <td>0.077549</td>\n",
       "      <td>0.053029</td>\n",
       "      <td>-0.079319</td>\n",
       "      <td>0.094071</td>\n",
       "    </tr>\n",
       "    <tr>\n",
       "      <th>FastingBS</th>\n",
       "      <td>0.198039</td>\n",
       "      <td>-0.120076</td>\n",
       "      <td>-0.116703</td>\n",
       "      <td>0.070193</td>\n",
       "      <td>0.043008</td>\n",
       "      <td>1.000000</td>\n",
       "      <td>0.120774</td>\n",
       "      <td>-0.131438</td>\n",
       "      <td>0.060451</td>\n",
       "      <td>0.052698</td>\n",
       "      <td>-0.043534</td>\n",
       "      <td>0.267291</td>\n",
       "    </tr>\n",
       "    <tr>\n",
       "      <th>RestingECG</th>\n",
       "      <td>0.210498</td>\n",
       "      <td>-0.038320</td>\n",
       "      <td>-0.065099</td>\n",
       "      <td>0.117206</td>\n",
       "      <td>0.013950</td>\n",
       "      <td>0.120774</td>\n",
       "      <td>1.000000</td>\n",
       "      <td>-0.093379</td>\n",
       "      <td>0.098360</td>\n",
       "      <td>0.099935</td>\n",
       "      <td>-0.019403</td>\n",
       "      <td>0.107628</td>\n",
       "    </tr>\n",
       "    <tr>\n",
       "      <th>MaxHR</th>\n",
       "      <td>-0.382045</td>\n",
       "      <td>0.189186</td>\n",
       "      <td>0.343654</td>\n",
       "      <td>-0.112135</td>\n",
       "      <td>-0.017239</td>\n",
       "      <td>-0.131438</td>\n",
       "      <td>-0.093379</td>\n",
       "      <td>1.000000</td>\n",
       "      <td>-0.370425</td>\n",
       "      <td>-0.160691</td>\n",
       "      <td>0.246927</td>\n",
       "      <td>-0.400421</td>\n",
       "    </tr>\n",
       "    <tr>\n",
       "      <th>ExerciseAngina</th>\n",
       "      <td>0.215793</td>\n",
       "      <td>-0.190664</td>\n",
       "      <td>-0.416625</td>\n",
       "      <td>0.155101</td>\n",
       "      <td>0.077549</td>\n",
       "      <td>0.060451</td>\n",
       "      <td>0.098360</td>\n",
       "      <td>-0.370425</td>\n",
       "      <td>1.000000</td>\n",
       "      <td>0.408752</td>\n",
       "      <td>-0.253181</td>\n",
       "      <td>0.494282</td>\n",
       "    </tr>\n",
       "    <tr>\n",
       "      <th>Oldpeak</th>\n",
       "      <td>0.258612</td>\n",
       "      <td>-0.105734</td>\n",
       "      <td>-0.245027</td>\n",
       "      <td>0.164803</td>\n",
       "      <td>0.053029</td>\n",
       "      <td>0.052698</td>\n",
       "      <td>0.099935</td>\n",
       "      <td>-0.160691</td>\n",
       "      <td>0.408752</td>\n",
       "      <td>1.000000</td>\n",
       "      <td>-0.097323</td>\n",
       "      <td>0.403951</td>\n",
       "    </tr>\n",
       "    <tr>\n",
       "      <th>ST_Slope</th>\n",
       "      <td>-0.093424</td>\n",
       "      <td>0.066831</td>\n",
       "      <td>0.202675</td>\n",
       "      <td>-0.083418</td>\n",
       "      <td>-0.079319</td>\n",
       "      <td>-0.043534</td>\n",
       "      <td>-0.019403</td>\n",
       "      <td>0.246927</td>\n",
       "      <td>-0.253181</td>\n",
       "      <td>-0.097323</td>\n",
       "      <td>1.000000</td>\n",
       "      <td>-0.397802</td>\n",
       "    </tr>\n",
       "    <tr>\n",
       "      <th>HeartDisease</th>\n",
       "      <td>0.282039</td>\n",
       "      <td>-0.305445</td>\n",
       "      <td>-0.471354</td>\n",
       "      <td>0.107589</td>\n",
       "      <td>0.094071</td>\n",
       "      <td>0.267291</td>\n",
       "      <td>0.107628</td>\n",
       "      <td>-0.400421</td>\n",
       "      <td>0.494282</td>\n",
       "      <td>0.403951</td>\n",
       "      <td>-0.397802</td>\n",
       "      <td>1.000000</td>\n",
       "    </tr>\n",
       "  </tbody>\n",
       "</table>\n",
       "</div>"
      ],
      "text/plain": [
       "                     Age       Sex  ChestPainType  RestingBP  Cholesterol  \\\n",
       "Age             1.000000 -0.055750      -0.165896   0.254399     0.053373   \n",
       "Sex            -0.055750  1.000000       0.168254  -0.005133     0.101706   \n",
       "ChestPainType  -0.165896  0.168254       1.000000  -0.022168    -0.073889   \n",
       "RestingBP       0.254399 -0.005133      -0.022168   1.000000     0.080723   \n",
       "Cholesterol     0.053373  0.101706      -0.073889   0.080723     1.000000   \n",
       "FastingBS       0.198039 -0.120076      -0.116703   0.070193     0.043008   \n",
       "RestingECG      0.210498 -0.038320      -0.065099   0.117206     0.013950   \n",
       "MaxHR          -0.382045  0.189186       0.343654  -0.112135    -0.017239   \n",
       "ExerciseAngina  0.215793 -0.190664      -0.416625   0.155101     0.077549   \n",
       "Oldpeak         0.258612 -0.105734      -0.245027   0.164803     0.053029   \n",
       "ST_Slope       -0.093424  0.066831       0.202675  -0.083418    -0.079319   \n",
       "HeartDisease    0.282039 -0.305445      -0.471354   0.107589     0.094071   \n",
       "\n",
       "                FastingBS  RestingECG     MaxHR  ExerciseAngina   Oldpeak  \\\n",
       "Age              0.198039    0.210498 -0.382045        0.215793  0.258612   \n",
       "Sex             -0.120076   -0.038320  0.189186       -0.190664 -0.105734   \n",
       "ChestPainType   -0.116703   -0.065099  0.343654       -0.416625 -0.245027   \n",
       "RestingBP        0.070193    0.117206 -0.112135        0.155101  0.164803   \n",
       "Cholesterol      0.043008    0.013950 -0.017239        0.077549  0.053029   \n",
       "FastingBS        1.000000    0.120774 -0.131438        0.060451  0.052698   \n",
       "RestingECG       0.120774    1.000000 -0.093379        0.098360  0.099935   \n",
       "MaxHR           -0.131438   -0.093379  1.000000       -0.370425 -0.160691   \n",
       "ExerciseAngina   0.060451    0.098360 -0.370425        1.000000  0.408752   \n",
       "Oldpeak          0.052698    0.099935 -0.160691        0.408752  1.000000   \n",
       "ST_Slope        -0.043534   -0.019403  0.246927       -0.253181 -0.097323   \n",
       "HeartDisease     0.267291    0.107628 -0.400421        0.494282  0.403951   \n",
       "\n",
       "                ST_Slope  HeartDisease  \n",
       "Age            -0.093424      0.282039  \n",
       "Sex             0.066831     -0.305445  \n",
       "ChestPainType   0.202675     -0.471354  \n",
       "RestingBP      -0.083418      0.107589  \n",
       "Cholesterol    -0.079319      0.094071  \n",
       "FastingBS      -0.043534      0.267291  \n",
       "RestingECG     -0.019403      0.107628  \n",
       "MaxHR           0.246927     -0.400421  \n",
       "ExerciseAngina -0.253181      0.494282  \n",
       "Oldpeak        -0.097323      0.403951  \n",
       "ST_Slope        1.000000     -0.397802  \n",
       "HeartDisease   -0.397802      1.000000  "
      ]
     },
     "execution_count": 54,
     "metadata": {},
     "output_type": "execute_result"
    }
   ],
   "source": [
    "treated_cat_data.corr()"
   ]
  },
  {
   "cell_type": "code",
   "execution_count": 55,
   "id": "e4c6ec71",
   "metadata": {
    "scrolled": false
   },
   "outputs": [
    {
     "data": {
      "image/png": "[encoded data removed]",
      "text/plain": [
       "<Figure size 720x720 with 2 Axes>"
      ]
     },
     "metadata": {
      "needs_background": "light"
     },
     "output_type": "display_data"
    }
   ],
   "source": [
    "fig, ax = plt.subplots(figsize=(10,10))  \n",
    "sns.heatmap(treated_cat_data.corr(), annot=True, cmap=\"Blues\")\n",
    "plt.show()"
   ]
  },
  {
   "cell_type": "markdown",
   "id": "2e329ec2",
   "metadata": {},
   "source": [
    "Highest possitive correlation:\n",
    "- ExerciseAngina\n",
    "- Oldpeak\n",
    "- Age\n",
    "- FastingBS\n",
    "- RestingECG\n",
    "- RestingBP\n",
    "\n",
    "Highest negative correlation:\n",
    "- ChestPainType\n",
    "- MaxHR\n",
    "- ST_Slope\n",
    "- Sex"
   ]
  },
  {
   "cell_type": "markdown",
   "id": "00a63857",
   "metadata": {},
   "source": [
    "## 3. Part 1: ZR and NBG"
   ]
  },
  {
   "cell_type": "code",
   "execution_count": 56,
   "id": "ba6a9c4d",
   "metadata": {},
   "outputs": [],
   "source": [
    "# classifiers\n",
    "zeroR = DummyClassifier()\n",
    "naive = GaussianNB()"
   ]
  },
  {
   "cell_type": "code",
   "execution_count": 57,
   "id": "9a6db9a3",
   "metadata": {},
   "outputs": [],
   "source": [
    "X_data = treated_cat_data.drop([\"HeartDisease\"], axis=1)\n",
    "y_data = treated_cat_data[\"HeartDisease\"]\n",
    "\n",
    "scalar = StandardScaler()\n",
    "rkf = RepeatedStratifiedKFold(n_splits=10, n_repeats=3)"
   ]
  },
  {
   "cell_type": "code",
   "execution_count": 58,
   "id": "ca7c32ca",
   "metadata": {},
   "outputs": [
    {
     "data": {
      "text/plain": [
       "array([0.55434783, 0.55434783, 0.55434783, 0.55434783, 0.55434783,\n",
       "       0.55434783, 0.55434783, 0.55434783, 0.54945055, 0.54945055,\n",
       "       0.55434783, 0.55434783, 0.55434783, 0.55434783, 0.55434783,\n",
       "       0.55434783, 0.55434783, 0.55434783, 0.54945055, 0.54945055,\n",
       "       0.55434783, 0.55434783, 0.55434783, 0.55434783, 0.55434783,\n",
       "       0.55434783, 0.55434783, 0.55434783, 0.54945055, 0.54945055])"
      ]
     },
     "execution_count": 58,
     "metadata": {},
     "output_type": "execute_result"
    }
   ],
   "source": [
    "# zeroR\n",
    "pipeline_zr = Pipeline([('transformer', scalar), ('estimator', zeroR)])\n",
    "scores_zr = cross_val_score(pipeline_zr, X_data, y_data, scoring='accuracy', cv = rkf)\n",
    "scores_zr"
   ]
  },
  {
   "cell_type": "code",
   "execution_count": 65,
   "id": "cca1f334",
   "metadata": {},
   "outputs": [],
   "source": [
    "mean_zr = scores_zr.mean()\n",
    "std_zr = scores_zr.std()\n",
    "inf_zr, sup_zr = stats.norm.interval(0.95, loc=mean_zr, scale=std_zr/np.sqrt(len(scores_zr)))"
   ]
  },
  {
   "cell_type": "code",
   "execution_count": 68,
   "id": "8db5aa02",
   "metadata": {},
   "outputs": [
    {
     "data": {
      "text/plain": [
       "array([0.81521739, 0.85869565, 0.88043478, 0.86956522, 0.80434783,\n",
       "       0.82608696, 0.82608696, 0.83695652, 0.89010989, 0.83516484,\n",
       "       0.7826087 , 0.83695652, 0.81521739, 0.83695652, 0.89130435,\n",
       "       0.85869565, 0.85869565, 0.79347826, 0.92307692, 0.87912088,\n",
       "       0.81521739, 0.81521739, 0.80434783, 0.91304348, 0.86956522,\n",
       "       0.80434783, 0.84782609, 0.84782609, 0.86813187, 0.85714286])"
      ]
     },
     "execution_count": 68,
     "metadata": {},
     "output_type": "execute_result"
    }
   ],
   "source": [
    "# NBG\n",
    "pipeline_nbg = Pipeline([('transformer', scalar), ('estimator', naive)])\n",
    "scores_nbg = cross_val_score(pipeline_nbg, X_data, y_data, scoring='accuracy', cv = rkf)\n",
    "scores_nbg"
   ]
  },
  {
   "cell_type": "code",
   "execution_count": 69,
   "id": "9725c9af",
   "metadata": {},
   "outputs": [],
   "source": [
    "mean_nbg = scores_nbg.mean()\n",
    "std_nbg = scores_nbg.std()\n",
    "inf_nbg, sup_nbg = stats.norm.interval(0.95, loc=mean_nbg, scale=std_nbg/np.sqrt(len(scores_nbg)))"
   ]
  },
  {
   "cell_type": "code",
   "execution_count": 138,
   "id": "288137ec",
   "metadata": {},
   "outputs": [
    {
     "name": "stdout",
     "output_type": "stream",
     "text": [
      "********** ZeroR **********\n",
      "Mean Accuracy: 55.34%\n",
      "Standard Deviation: 0.0020\n",
      "Accuracy Confidence Interval (95%%): (0.5527, 0.5541)\n",
      "\n",
      "Lowest Accuracy 54.95%\n",
      "Highest Accuracy 55.43%\n"
     ]
    }
   ],
   "source": [
    "print('*'*10, 'ZeroR', '*'*10)\n",
    "\n",
    "print(f'Mean Accuracy: {mean_zr * 100:0.2f}%')\n",
    "print(f'Standard Deviation: {std_zr:0.4f}')\n",
    "print(f\"Accuracy Confidence Interval (95%%): ({inf_zr:0.4f}, {sup_zr:0.4f})\", end='\\n\\n')\n",
    "\n",
    "print(f\"Lowest Accuracy {scores_zr.min() * 100:0.2f}%\")\n",
    "print(f\"Highest Accuracy {scores_zr.max() * 100:0.2f}%\")"
   ]
  },
  {
   "cell_type": "code",
   "execution_count": 139,
   "id": "752ca0c5",
   "metadata": {},
   "outputs": [
    {
     "name": "stdout",
     "output_type": "stream",
     "text": [
      "********** NBG **********\n",
      "Mean Accuracy: 84.54%\n",
      "Standard Deviation: 0.0346\n",
      "Accuracy Confidence Interval (95%%): (0.8330, 0.8578)\n",
      "\n",
      "Lowest Accuracy 78.26%\n",
      "Highest Accuracy 92.31%\n"
     ]
    }
   ],
   "source": [
    "print('*'*10, 'NBG', '*'*10)\n",
    "\n",
    "print(f'Mean Accuracy: {mean_nbg * 100:0.2f}%')\n",
    "print(f'Standard Deviation: {std_nbg:0.4f}')\n",
    "print(f\"Accuracy Confidence Interval (95%%): ({inf_nbg:0.4f}, {sup_nbg:0.4f})\", end='\\n\\n')\n",
    "\n",
    "print(f\"Lowest Accuracy {scores_nbg.min() * 100:0.2f}%\")\n",
    "print(f\"Highest Accuracy {scores_nbg.max() * 100:0.2f}%\")"
   ]
  },
  {
   "cell_type": "code",
   "execution_count": 140,
   "id": "c097f222",
   "metadata": {},
   "outputs": [
    {
     "data": {
      "image/png": "[encoded data removed]",
      "text/plain": [
       "<Figure size 1440x720 with 2 Axes>"
      ]
     },
     "metadata": {
      "needs_background": "light"
     },
     "output_type": "display_data"
    }
   ],
   "source": [
    "fig, ax = plt.subplots(ncols=2, figsize=(20,10))\n",
    "\n",
    "sns.boxplot(y = scores_zr, ax=ax[0])\n",
    "ax[0].set_title(\"ZeroR accuracy boxplot\")\n",
    "ax[0].set_ylim([0.5, 1])\n",
    "# ax[0].set_title('MaxHR')\n",
    "\n",
    "sns.boxplot(y = scores_nbg, ax=ax[1])\n",
    "ax[1].set_title(\"Gaussian Naive Bayes accuracy boxplot\")\n",
    "ax[1].set_ylim([0.5, 1])\n",
    "    \n",
    "plt.show()"
   ]
  },
  {
   "cell_type": "code",
   "execution_count": 155,
   "id": "daedecef",
   "metadata": {},
   "outputs": [],
   "source": [
    "# Creating metrics DF\n",
    "metric_alg = ['ZeroR', 'NBG', 'KMC', 'KNN', 'AD']\n",
    "metric_columns  = ['Mean', 'Standard Deviation', 'Inferior Limit', 'Superior Limit']\n",
    "zeros = np.zeros(4)\n",
    "\n",
    "metrics_df = pd.DataFrame(index=metric_alg, columns=metric_columns, data=[zeros, zeros, zeros, zeros, zeros])\n",
    "metrics_df"
   ]
  },
  {
   "cell_type": "code",
   "execution_count": 158,
   "id": "bb33318f",
   "metadata": {},
   "outputs": [],
   "source": [
    "# Updating ZeroR metrics\n",
    "metrics_df.at['ZeroR', 'Mean'] = mean_zr\n",
    "metrics_df.at['ZeroR', 'Standard Deviation'] = std_zr\n",
    "metrics_df.at['ZeroR', 'Inferior Limit'] = inf_zr\n",
    "metrics_df.at['ZeroR', 'Superior Limit'] = sup_zr"
   ]
  },
  {
   "cell_type": "code",
   "execution_count": 159,
   "id": "8048c487",
   "metadata": {},
   "outputs": [],
   "source": [
    "# Updating NBG metrics\n",
    "metrics_df.at['NBG', 'Mean'] = mean_nbg\n",
    "metrics_df.at['NBG', 'Standard Deviation'] = std_nbg\n",
    "metrics_df.at['NBG', 'Inferior Limit'] = inf_nbg\n",
    "metrics_df.at['NBG', 'Superior Limit'] = sup_nbg"
   ]
  },
  {
   "cell_type": "code",
   "execution_count": 160,
   "id": "5bfb1fac",
   "metadata": {
    "scrolled": true
   },
   "outputs": [
    {
     "data": {
      "text/html": [
       "<div>\n",
       "<style scoped>\n",
       "    .dataframe tbody tr th:only-of-type {\n",
       "        vertical-align: middle;\n",
       "    }\n",
       "\n",
       "    .dataframe tbody tr th {\n",
       "        vertical-align: top;\n",
       "    }\n",
       "\n",
       "    .dataframe thead th {\n",
       "        text-align: right;\n",
       "    }\n",
       "</style>\n",
       "<table border=\"1\" class=\"dataframe\">\n",
       "  <thead>\n",
       "    <tr style=\"text-align: right;\">\n",
       "      <th></th>\n",
       "      <th>Mean</th>\n",
       "      <th>Standard Deviation</th>\n",
       "      <th>Inferior Limit</th>\n",
       "      <th>Superior Limit</th>\n",
       "    </tr>\n",
       "  </thead>\n",
       "  <tbody>\n",
       "    <tr>\n",
       "      <th>ZeroR</th>\n",
       "      <td>0.553368</td>\n",
       "      <td>0.001959</td>\n",
       "      <td>0.552667</td>\n",
       "      <td>0.554069</td>\n",
       "    </tr>\n",
       "    <tr>\n",
       "      <th>NBG</th>\n",
       "      <td>0.845381</td>\n",
       "      <td>0.034568</td>\n",
       "      <td>0.833012</td>\n",
       "      <td>0.857751</td>\n",
       "    </tr>\n",
       "    <tr>\n",
       "      <th>KMC</th>\n",
       "      <td>0.000000</td>\n",
       "      <td>0.000000</td>\n",
       "      <td>0.000000</td>\n",
       "      <td>0.000000</td>\n",
       "    </tr>\n",
       "    <tr>\n",
       "      <th>KNN</th>\n",
       "      <td>0.000000</td>\n",
       "      <td>0.000000</td>\n",
       "      <td>0.000000</td>\n",
       "      <td>0.000000</td>\n",
       "    </tr>\n",
       "    <tr>\n",
       "      <th>AD</th>\n",
       "      <td>0.000000</td>\n",
       "      <td>0.000000</td>\n",
       "      <td>0.000000</td>\n",
       "      <td>0.000000</td>\n",
       "    </tr>\n",
       "  </tbody>\n",
       "</table>\n",
       "</div>"
      ],
      "text/plain": [
       "           Mean  Standard Deviation  Inferior Limit  Superior Limit\n",
       "ZeroR  0.553368            0.001959        0.552667        0.554069\n",
       "NBG    0.845381            0.034568        0.833012        0.857751\n",
       "KMC    0.000000            0.000000        0.000000        0.000000\n",
       "KNN    0.000000            0.000000        0.000000        0.000000\n",
       "AD     0.000000            0.000000        0.000000        0.000000"
      ]
     },
     "execution_count": 160,
     "metadata": {},
     "output_type": "execute_result"
    }
   ],
   "source": [
    "metrics_df"
   ]
  },
  {
   "cell_type": "code",
   "execution_count": 164,
   "id": "7d6ce4cd",
   "metadata": {},
   "outputs": [
    {
     "data": {
      "text/plain": [
       "{'ZR': array([0.55434783, 0.55434783, 0.55434783, 0.55434783, 0.55434783,\n",
       "        0.55434783, 0.55434783, 0.55434783, 0.54945055, 0.54945055,\n",
       "        0.55434783, 0.55434783, 0.55434783, 0.55434783, 0.55434783,\n",
       "        0.55434783, 0.55434783, 0.55434783, 0.54945055, 0.54945055,\n",
       "        0.55434783, 0.55434783, 0.55434783, 0.55434783, 0.55434783,\n",
       "        0.55434783, 0.55434783, 0.55434783, 0.54945055, 0.54945055]),\n",
       " 'NBG': array([0.81521739, 0.85869565, 0.88043478, 0.86956522, 0.80434783,\n",
       "        0.82608696, 0.82608696, 0.83695652, 0.89010989, 0.83516484,\n",
       "        0.7826087 , 0.83695652, 0.81521739, 0.83695652, 0.89130435,\n",
       "        0.85869565, 0.85869565, 0.79347826, 0.92307692, 0.87912088,\n",
       "        0.81521739, 0.81521739, 0.80434783, 0.91304348, 0.86956522,\n",
       "        0.80434783, 0.84782609, 0.84782609, 0.86813187, 0.85714286])}"
      ]
     },
     "execution_count": 164,
     "metadata": {},
     "output_type": "execute_result"
    }
   ],
   "source": [
    "scores = {'ZR':scores_zr, 'NBG':scores_nbg}\n",
    "scores"
   ]
  },
  {
   "cell_type": "code",
   "execution_count": 162,
   "id": "8feb12c3",
   "metadata": {},
   "outputs": [
    {
     "name": "stdout",
     "output_type": "stream",
     "text": [
      "Paired T Test\n",
      "t: -44.34 p-value: 0.00\n",
      "\n",
      "Wilcoxon Test\n",
      "w: 0.00 p-value: 0.00\n",
      "\n"
     ]
    }
   ],
   "source": [
    "from scipy.stats import ttest_rel, wilcoxon\n",
    "\n",
    "print('Paired T Test')\n",
    "s,p = ttest_rel(scores_zr, scores_nbg)\n",
    "print(\"t: %0.2f p-value: %0.2f\\n\" % (s,p))\n",
    "\n",
    "\n",
    "print ('Wilcoxon Test')\n",
    "s,p = wilcoxon(scores_zr, scores_nbg)\n",
    "print(\"w: %0.2f p-value: %0.2f\\n\" % (s,p))"
   ]
  },
  {
   "cell_type": "markdown",
   "id": "c92235e3",
   "metadata": {},
   "source": [
    "## References"
   ]
  },
  {
   "cell_type": "markdown",
   "id": "ae50c32b",
   "metadata": {},
   "source": [
    "- https://www.investopedia.com/ask/answers/040815/how-should-i-interpret-negative-correlation.asp\n",
    "- https://arxiv.org/pdf/1604.07202.pdf - An Approach to Find Missing Values in Medical Datasets\n",
    "- https://towardsdatascience.com/heart-disease-uci-diagnosis-prediction-b1943ee835a7\n",
    "- https://bmcmedinformdecismak.biomedcentral.com/track/pdf/10.1186/s12911-021-01527-5.pdf - A novel approach for heart disease prediction using strength scores with signifcant predictors"
   ]
  },
  {
   "cell_type": "code",
   "execution_count": null,
   "id": "f83256f7",
   "metadata": {},
   "outputs": [],
   "source": []
  }
 ],
 "metadata": {
  "kernelspec": {
   "display_name": "Python 3 (ipykernel)",
   "language": "python",
   "name": "python3"
  },
  "language_info": {
   "codemirror_mode": {
    "name": "ipython",
    "version": 3
   },
   "file_extension": ".py",
   "mimetype": "text/x-python",
   "name": "python",
   "nbconvert_exporter": "python",
   "pygments_lexer": "ipython3",
   "version": "3.10.4"
  }
 },
 "nbformat": 4,
 "nbformat_minor": 5
}
